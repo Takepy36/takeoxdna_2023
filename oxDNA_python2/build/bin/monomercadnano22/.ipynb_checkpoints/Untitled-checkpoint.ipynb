{
 "cells": [
  {
   "cell_type": "code",
   "execution_count": 16,
   "id": "fab932b7-2e5d-4d53-836b-12a80789371d",
   "metadata": {},
   "outputs": [],
   "source": [
    "import numpy as np\n",
    "import pandas as pd"
   ]
  },
  {
   "cell_type": "code",
   "execution_count": 17,
   "id": "34165bcf-3ed0-4b86-8f58-db2180507a9d",
   "metadata": {},
   "outputs": [],
   "source": [
    "file = pd.read_csv('/Users/g_seikyo27/oxDNA/build/bin/monomercadnano2/monomer.csv')\n",
    "sq = file['Sequence']"
   ]
  },
  {
   "cell_type": "code",
   "execution_count": 18,
   "id": "749599fa-95a2-4dbc-89ed-8c222402c0ff",
   "metadata": {},
   "outputs": [],
   "source": [
    "sq.to_csv('/Users/g_seikyo27/oxDNA/build/bin/monomercadnano2/monomer2.csv', header = False, index = False)"
   ]
  },
  {
   "cell_type": "code",
   "execution_count": null,
   "id": "247836f5-38e6-4a22-a962-8b473fc16e40",
   "metadata": {},
   "outputs": [],
   "source": []
  }
 ],
 "metadata": {
  "kernelspec": {
   "display_name": "Python 3",
   "language": "python",
   "name": "python3"
  },
  "language_info": {
   "codemirror_mode": {
    "name": "ipython",
    "version": 3
   },
   "file_extension": ".py",
   "mimetype": "text/x-python",
   "name": "python",
   "nbconvert_exporter": "python",
   "pygments_lexer": "ipython3",
   "version": "3.8.8"
  }
 },
 "nbformat": 4,
 "nbformat_minor": 5
}
