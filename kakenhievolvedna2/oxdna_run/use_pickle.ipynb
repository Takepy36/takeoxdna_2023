{
 "cells": [
  {
   "cell_type": "code",
   "execution_count": 1,
   "id": "785480a2-38c5-4829-972c-5981808cd1ae",
   "metadata": {},
   "outputs": [],
   "source": [
    "import os\n",
    "import pickle"
   ]
  },
  {
   "cell_type": "code",
   "execution_count": 1,
   "id": "cdf90a53-b16e-4b06-9fdd-35b59ffa6d76",
   "metadata": {},
   "outputs": [],
   "source": [
    "def dump_to_pickle(dirpath,variable_list,namelist,output=True):\n",
    "    for i,filename in enumerate(namelist):\n",
    "        path = os.path.join(dirpath, filename + \".p\")\n",
    "        with open(path, 'wb') as f:\n",
    "            pickle.dump(variable_list[i], f)\n",
    "        if output==True:\n",
    "            print(\"saved : \",path)"
   ]
  },
  {
   "cell_type": "code",
   "execution_count": 1,
   "id": "b4758c82-0257-467e-8d85-2c3f3fa3b6f5",
   "metadata": {},
   "outputs": [],
   "source": [
    "def read_pickle(dirpath,filename):\n",
    "    with open(dirpath+\"/\"+filename,\"rb\") as f:\n",
    "        contents = pickle.load(f)\n",
    "    return contents"
   ]
  }
 ],
 "metadata": {
  "kernelspec": {
   "display_name": "Python 3 (ipykernel)",
   "language": "python",
   "name": "python3"
  },
  "language_info": {
   "codemirror_mode": {
    "name": "ipython",
    "version": 3
   },
   "file_extension": ".py",
   "mimetype": "text/x-python",
   "name": "python",
   "nbconvert_exporter": "python",
   "pygments_lexer": "ipython3",
   "version": "3.9.0"
  }
 },
 "nbformat": 4,
 "nbformat_minor": 5
}
