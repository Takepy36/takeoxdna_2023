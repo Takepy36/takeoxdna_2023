{
 "cells": [
  {
   "cell_type": "code",
   "execution_count": 1,
   "id": "c1d256cf-71ed-45db-be5e-512adab460f8",
   "metadata": {},
   "outputs": [],
   "source": [
    "import pprint\n",
    "import pickle\n",
    "import glob\n",
    "import os\n",
    "import sys\n",
    "import qdpy\n",
    "\n",
    "sys.path.append(\"../scripts\")\n",
    "import submitPepperCorn as sp"
   ]
  },
  {
   "cell_type": "code",
   "execution_count": 2,
   "id": "3ad6060d-6c81-4a5e-9bed-d8fa124928ba",
   "metadata": {},
   "outputs": [],
   "source": [
    "class Custom_unpickler(pickle._Unpickler):\n",
    "\n",
    "    current_module = {\"Individual\": \"qdpy.phenotype\", \"Fitness\": \"qdpy.phenotype\"}\n",
    "    \n",
    "    def find_class(self, module, name):\n",
    "        if name in Custom_unpickler.current_module:\n",
    "            module = Custom_unpickler.current_module[name] #backward compatibility\n",
    "        sys.audit('pickle.find_class', module, name)\n",
    "        if self.proto < 3 and self.fix_imports:\n",
    "            if (module, name) in _compat_pickle.NAME_MAPPING:\n",
    "                module, name = _compat_pickle.NAME_MAPPING[(module, name)]\n",
    "            elif module in _compat_pickle.IMPORT_MAPPING:\n",
    "                module = _compat_pickle.IMPORT_MAPPING[module]\n",
    "        __import__(module, level=0)\n",
    "        if self.proto >= 4:\n",
    "            return pickle._getattribute(sys.modules[module], name)[0]\n",
    "        else:\n",
    "            return getattr(sys.modules[module], name)"
   ]
  },
  {
   "cell_type": "code",
   "execution_count": 3,
   "id": "a4be7e06-0e45-4989-8acf-e5ab439c749c",
   "metadata": {},
   "outputs": [],
   "source": [
    "def read_pickle(path):\n",
    "    with open(path,\"rb\") as f:\n",
    "        res = Custom_unpickler(f,fix_imports=True, encoding=\"ASCII\", errors=\"strict\").load()\n",
    "        return res"
   ]
  },
  {
   "cell_type": "code",
   "execution_count": 4,
   "id": "baf7e603-6da5-4b11-9c49-fc219452399e",
   "metadata": {},
   "outputs": [],
   "source": [
    "def indiv_submit(indiv_list,count_start,result_dir):\n",
    "    counter = count_start\n",
    "    for indiv in indiv_list:\n",
    "        \n",
    "        number = str(counter).zfill(4)\n",
    "        \n",
    "        evalfile = os.path.join(result_dir, \"{}_test.pil\".format(number))\n",
    "        outputfile = os.path.join(result_dir,\"{}_result.pil\".format(number))\n",
    "        logfile = os.path.join(result_dir,\"{}_pepper.log\".format(number))\n",
    "        \n",
    "        lst_indiv = [(i,x) for i, x in enumerate(indiv) if x > 0.0]\n",
    "        system = sp.generateDNASystem(lst_indiv)\n",
    "        \n",
    "        sp.submitSystem(system, evalName = evalfile, outputFile = outputfile, logFile = logfile)\n",
    "        \n",
    "        counter = counter + 1"
   ]
  },
  {
   "cell_type": "code",
   "execution_count": 5,
   "id": "e1a8307d-56f3-4ff0-b8c3-240eb59472cc",
   "metadata": {},
   "outputs": [],
   "source": [
    "def make_pil(res_container,result_dir,max_indiv = 30):\n",
    "    #max_indivで指定した数だとオーバーする場合、どうしたらよいだろうか？\n",
    "    \n",
    "    if not os.path.exists(result_dir):\n",
    "        os.makedirs(result_dir)\n",
    "        \n",
    "    indiv_list = list(res_container)\n",
    "    indiv_list = sorted(indiv_list,key = lambda indiv: indiv.fitness[0], reverse = True)\n",
    "    \n",
    "    \n",
    "    \n",
    "    indiv_submit(indiv_list[:max_indiv],1,result_dir)#先頭から10個\n",
    "    indiv_submit(indiv_list[-10:],1+max_indiv,result_dir)#最後から10個"
   ]
  },
  {
   "cell_type": "code",
   "execution_count": 6,
   "id": "bd38af5e-ddf3-4068-ab23-80cb9d19987a",
   "metadata": {},
   "outputs": [],
   "source": [
    "#use to reset pilfiles and logs!\n",
    "def trash_pils():\n",
    "    from send2trash import send2trash\n",
    "\n",
    "    pils = files = glob.glob(\"../results/peppercorn*/final*/\")\n",
    "    for path in pils:\n",
    "        send2trash(path)"
   ]
  },
  {
   "cell_type": "code",
   "execution_count": 7,
   "id": "df2bafa5-8340-4fb5-a3d7-173799432fad",
   "metadata": {},
   "outputs": [],
   "source": [
    "# test\n",
    "# path = \"../results/peppercorn30x400x2000-L1-meanStruct1x30-nbActive2x7-log10ReactionCount1.0x5.0-length1x550-Grid3x50x55--Greycode-65536x64/final_20220727093209.p\"\n",
    "# res = read_pickle(path)\n",
    "# res_container = res[\"container\"]\n",
    "# res_container\n",
    "#make_pil(res_container,result_dir=\"test\")"
   ]
  },
  {
   "cell_type": "code",
   "execution_count": 8,
   "id": "300dc277-8786-44f1-8c0f-cb48061a2c21",
   "metadata": {},
   "outputs": [],
   "source": [
    "def make_pil_for_all():\n",
    "    lst = glob.glob(\"../results/peppercorn*/final_*.p\")\n",
    "\n",
    "    for path in lst:\n",
    "        res = read_pickle(path)\n",
    "        result_dir = path.replace(\".p\",\"\")\n",
    "        print(result_dir)\n",
    "\n",
    "        res_container = res[\"container\"]\n",
    "        make_pil(res_container,result_dir)"
   ]
  },
  {
   "cell_type": "code",
   "execution_count": 9,
   "id": "4ab2be1c-eeda-4d85-85a4-947be04f3277",
   "metadata": {},
   "outputs": [],
   "source": [
    "def main():\n",
    "    make_pil_for_all()\n",
    "    print(\"completed\\n\")"
   ]
  },
  {
   "cell_type": "code",
   "execution_count": 10,
   "id": "4ccc08ae-ff12-49a8-aad9-290484114092",
   "metadata": {},
   "outputs": [
    {
     "name": "stdout",
     "output_type": "stream",
     "text": [
      "../results/peppercorn30x400x2000-L1-meanStruct1x30-nbActive2x7-log10ReactionCount1.0x5.0-length1x550-Grid3x50x55--Greycode-65536x64/final_20221006190117\n",
      "../results/peppercorn30x400x2000-L1-mostCommonSize0x30-nbActive2x7-log10ReactionCount1.0x5.0-length1x550-Grid3x50x55--Greycode-65536x64/final_20221007013422\n",
      "../results/peppercorn30x400x2000-L2-meanStruct1x30-nbActive2x7-log10ReactionCount1.0x5.0-length1x550-Grid3x50x55--SparseBinaryGA3-300000x40-0.5x0.5x1x2-7/final_20221011051136\n",
      "../results/peppercorn30x400x2000-L2-entropyComplexSize0.0x4.0-nbActive2x7-log10ReactionCount1.0x5.0-length1x550-Grid3x50x55--SparseBinaryGA3-300000x40-0.5x0.5x1x2-7/final_20221014185101\n",
      "../results/peppercorn30x400x2000-L3-meanStruct1x30-nbActive2x7-log10ReactionCount1.0x5.0-length1x550-Grid3x50x55--SparseBinaryRandom-300000x40-1x2-7/final_20221004000100\n",
      "../results/peppercorn30x400x2000-L1-entropyReactionTypes0x2-nbActive2x7-log10ReactionCount1.0x5.0-length1x550-Grid3x50x55--Greycode-65536x64/final_20221007034555\n",
      "../results/peppercorn30x400x2000-L1-largestStruct1x30-nbActive2x7-log10ReactionCount1.0x5.0-length1x550-Grid3x50x55--Greycode-65536x64/final_20221006165033\n",
      "../results/peppercorn30x400x2000-L3-entropyReactionTypes0x2-nbActive2x7-log10ReactionCount1.0x5.0-length1x550-Grid3x50x55--SparseBinaryRandom-300000x40-1x2-7/final_20221005151402\n",
      "../results/peppercorn30x400x2000-L2-entropyReactionTypes0x2-nbActive2x7-log10ReactionCount1.0x5.0-length1x550-Grid3x50x55--SparseBinaryRandom-300000x40-1x2-7/final_20221001175942\n",
      "../results/peppercorn30x400x2000-L2-meanStruct1x30-nbActive2x7-log10ReactionCount1.0x5.0-length1x550-Grid3x50x55--SparseBinaryRandom-300000x40-1x2-7/final_20221001000655\n",
      "../results/peppercorn30x400x2000-L1-entropyComplexSize0.0x4.0-nbActive2x7-log10ReactionCount1.0x5.0-length1x550-Grid3x50x55--Greycode-65536x64/final_20221006211221\n",
      "../results/peppercorn30x400x2000-L1-meanStruct1x30-nbActive2x7-log10nbBindReactions0.0x5.0-log10nbBranchReactions0.0x5.0-Grid3x50x50--Greycode-65536x64/final_20221007055713\n",
      "../results/peppercorn30x400x2000-L1-skewComplexSize0.0x10.0-nbActive2x7-log10ReactionCount1.0x5.0-length1x550-Grid3x50x55--Greycode-65536x64/final_20221006232318\n",
      "../results/peppercorn30x400x2000-L2-largestStruct1x30-nbActive2x7-log10ReactionCount1.0x5.0-length1x550-Grid3x50x55--SparseBinaryGA3-300000x40-0.5x0.5x1x2-7/final_20221007183401\n",
      "../results/peppercorn30x400x2000-L2-skewComplexSize0.0x10.0-nbActive2x7-log10ReactionCount1.0x5.0-length1x550-Grid3x50x55--SparseBinaryGA3-300000x40-0.5x0.5x1x2-7/final_20221017232659\n",
      "completed\n",
      "\n"
     ]
    }
   ],
   "source": [
    "if __name__ == \"__main__\":\n",
    "    main()"
   ]
  }
 ],
 "metadata": {
  "kernelspec": {
   "display_name": "Python 3 (ipykernel)",
   "language": "python",
   "name": "python3"
  },
  "language_info": {
   "codemirror_mode": {
    "name": "ipython",
    "version": 3
   },
   "file_extension": ".py",
   "mimetype": "text/x-python",
   "name": "python",
   "nbconvert_exporter": "python",
   "pygments_lexer": "ipython3",
   "version": "3.9.0"
  }
 },
 "nbformat": 4,
 "nbformat_minor": 5
}
