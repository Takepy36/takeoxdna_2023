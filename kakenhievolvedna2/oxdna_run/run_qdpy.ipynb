{
 "cells": [
  {
   "cell_type": "code",
   "execution_count": null,
   "id": "29b9f705-46e4-42ef-b694-5b280567a77d",
   "metadata": {},
   "outputs": [],
   "source": [
    "import sys\n",
    "import functools\n",
    "from qdpy import algorithms, containers, benchmarks, plots\n",
    "import pickle\n",
    "import numpy as np\n",
    "import importlib"
   ]
  },
  {
   "cell_type": "code",
   "execution_count": 2,
   "id": "14715d52-3789-432c-a87c-5e4338196c42",
   "metadata": {},
   "outputs": [],
   "source": [
    "# Define evaluation function\n",
    "#QDPYの評価関数を定義する\n",
    "#100個のモデルで予測したエネルギー平均値が小さいほど良いとする。\n",
    "def eval_from_svm(array,svm,th):\n",
    "    args = np.argsort(array)\n",
    "    arrs = np.zeros(256)\n",
    "    for i in args[-7:]:\n",
    "        if array[i] > th:\n",
    "            arrs[i] = 1.0#数字のリストIndividualをを0,1の値のリストに変換する。\n",
    "    val = np.array([s.predict([arrs]) for s in svm])#評価対象。今回はSVM100個で予測したエネルギー値の平均値のリスト。\n",
    "    #valはブートストラップされたモデルそれぞれについて予測を行った結果のリスト。\n",
    "    a = arrs.sum() #存在するストランド組み合わせの種類数。2~7までの値の列。\n",
    "    b = val.std() #SVM100個で予測した値の標準偏差の列。予測値の信頼度を表す。\n",
    "    return (np.average(val),), (a,b)\n",
    "#返す値は予測エネルギー平均値と、a,b\n",
    "\n",
    "\n",
    "#bのうち、上位N%に対応するものをoxDNAに渡すようにしたい"
   ]
  },
  {
   "cell_type": "code",
   "execution_count": 1,
   "id": "fbcf2759-9b99-461a-b880-a5399f42c31a",
   "metadata": {},
   "outputs": [],
   "source": [
    "def run_qdpy(dirpath,bgt=10000,plot=False):\n",
    "    # Create container and algorithm. Here we use MAP-Elites, by illuminating a Grid container by evolution.\n",
    "    #コンテナとアルゴリズムを作成する。ここでは、進化によってGridコンテナを照らすことで、MAP-Elitesを使用しています。\n",
    "    \n",
    "    #評価結果を配置するgridを作成。\n",
    "    grid = containers.AutoScalingGrid(\n",
    "        shape=(64,64), \n",
    "        max_items_per_bin=1, \n",
    "        fitness_domain=((- np.inf, 1.),), #評価関数が返す値の範囲\n",
    "        #評価関数はどんな関数でもいいが、返すデータ型は\"fitness\"と(特徴1,特徴2)という形\n",
    "        features_domain=((1., 256.), (-2., 2.)))#軸。横strand(特徴１）数(1~7ぐらい)、縦（特徴2）はブースティングで求めたstd\n",
    "    \n",
    "    #配置アルゴリズムを指定。今回はエネルギーが小さいほど高評価なので、minimization。\n",
    "    algo = algorithms.RandomSearchMutPolyBounded(\n",
    "        grid, \n",
    "        budget=bgt, \n",
    "        batch_size=500,\n",
    "        dimension=256, #1つのストランドセットに幾つパラメータがあるか # one bit per strand\n",
    "        optimisation_task=\"minimization\")\n",
    "    \n",
    "    # Create a logger to pretty-print everything and generate output data files\n",
    "    #すべてをプリティプリントするロガーを作成し、出力データファイルを生成する。\n",
    "    #配置されたデータはpickleファイルから全て取得可能。\n",
    "    logger = algorithms.AlgorithmLogger(algo)\n",
    "    logger.log_base_path = dirpath\n",
    "    logger.final_filename = \"qdpy_log.p\"\n",
    "    with open(dirpath + \"/bootstrap_models.p\",\"rb\") as f:\n",
    "        SVRs = pickle.load(f)\n",
    "        \n",
    "    # Run illumination process !\n",
    "    #配置を実行する。\n",
    "    #評価関数はfunctools.partialによって「svmとthが指定された、引数がarrayの新しいオブジェクト」になる。\n",
    "    best = algo.optimise(functools.partial(eval_from_svm,svm=SVRs,th=0.95))\n",
    "    #print(algo.summary())\n",
    "    \n",
    "    # Plot the results\n",
    "    if plot == True:\n",
    "        plots.default_plots_grid(logger)\n",
    "    print(\"All results are available in the '%s' pickle file.\" % logger.final_filename)"
   ]
  },
  {
   "cell_type": "markdown",
   "id": "858a9dc4-c50e-415d-ad7a-010310e80108",
   "metadata": {},
   "source": [
    "2023/05/09<br>\n",
    "https://blog.amedama.jp/entry/2015/11/28/000432<br>\n",
    "functools.partialは、関数やメソッドの引数の一部をある値に固定した形で新しい呼び出し可能オブジェクトを作ることができる。partialを使って、eval_from_svmの新しいオブジェクトを作り、algo.optimiseに入力できるようにする必要がある。"
   ]
  },
  {
   "cell_type": "code",
   "execution_count": 2,
   "id": "2ea74212-f5ff-4bb0-ba1c-93636a7a1f48",
   "metadata": {},
   "outputs": [],
   "source": [
    "#iterationは世代\n",
    "#縦軸はフィットネス関数のスコア（エネルギー）\n",
    "\n",
    "#oxDNAに渡せる形にする\n",
    "#評価に自作の信頼度関数を用いる"
   ]
  }
 ],
 "metadata": {
  "kernelspec": {
   "display_name": "Python 3 (ipykernel)",
   "language": "python",
   "name": "python3"
  },
  "language_info": {
   "codemirror_mode": {
    "name": "ipython",
    "version": 3
   },
   "file_extension": ".py",
   "mimetype": "text/x-python",
   "name": "python",
   "nbconvert_exporter": "python",
   "pygments_lexer": "ipython3",
   "version": "3.9.0"
  }
 },
 "nbformat": 4,
 "nbformat_minor": 5
}
