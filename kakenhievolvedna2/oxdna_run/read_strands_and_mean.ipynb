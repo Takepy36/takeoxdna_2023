{
 "cells": [
  {
   "cell_type": "code",
   "execution_count": 1,
   "id": "2c83af43-6335-494b-b070-1774e95a535f",
   "metadata": {},
   "outputs": [],
   "source": [
    "import glob\n",
    "import os\n",
    "import pandas as pd"
   ]
  },
  {
   "cell_type": "code",
   "execution_count": 4,
   "id": "131dc2f5-66fa-42a4-ae8b-e8aea745f32b",
   "metadata": {},
   "outputs": [],
   "source": [
    "pathes = \"sim_result_peppercorn*\""
   ]
  },
  {
   "cell_type": "code",
   "execution_count": 5,
   "id": "30a07483-e50e-473f-b5f8-1fda4932ac9f",
   "metadata": {},
   "outputs": [],
   "source": [
    "lst = glob.glob(pathes)"
   ]
  },
  {
   "cell_type": "code",
   "execution_count": 4,
   "id": "560fc0c9-f846-4a24-a43b-40a84d925275",
   "metadata": {},
   "outputs": [],
   "source": [
    "dftest=pd.read_csv(\"/Users/takepy/takeoxdna/kakenhievolvedna2/oxdna_run/sim_result_peppercorn_2022-08-26_18_54_10147438/meanlog.csv\")\n",
    "dftest.columns = dftest.columns.str.replace(' ', '')"
   ]
  },
  {
   "cell_type": "code",
   "execution_count": 5,
   "id": "20c79d50-47b2-49dc-b00c-7a2ed3f73508",
   "metadata": {},
   "outputs": [
    {
     "data": {
      "text/plain": [
       "0    7.441011\n",
       "Name: convexhull_mean, dtype: float64"
      ]
     },
     "execution_count": 5,
     "metadata": {},
     "output_type": "execute_result"
    }
   ],
   "source": [
    "dftest.loc[:,\"convexhull_mean\"]"
   ]
  },
  {
   "cell_type": "code",
   "execution_count": 1,
   "id": "1b229aa4-5b7d-4e0c-bc2f-99e5bda45e46",
   "metadata": {},
   "outputs": [
    {
     "ename": "NameError",
     "evalue": "name 'lst' is not defined",
     "output_type": "error",
     "traceback": [
      "\u001b[0;31m---------------------------------------------------------------------------\u001b[0m",
      "\u001b[0;31mNameError\u001b[0m                                 Traceback (most recent call last)",
      "Input \u001b[0;32mIn [1]\u001b[0m, in \u001b[0;36m<cell line: 4>\u001b[0;34m()\u001b[0m\n\u001b[1;32m      5\u001b[0m \u001b[38;5;28mprint\u001b[39m(\u001b[38;5;124m\"\u001b[39m\u001b[38;5;124mstrands,size_mean,filepath\u001b[39m\u001b[38;5;124m\"\u001b[39m,file \u001b[38;5;241m=\u001b[39m s_m_log)\n\u001b[1;32m      7\u001b[0m \u001b[38;5;28;01mwith\u001b[39;00m \u001b[38;5;28mopen\u001b[39m(logfilename,\u001b[38;5;124m\"\u001b[39m\u001b[38;5;124mw\u001b[39m\u001b[38;5;124m\"\u001b[39m) \u001b[38;5;28;01mas\u001b[39;00m log:\n\u001b[0;32m----> 8\u001b[0m     \u001b[38;5;28;01mfor\u001b[39;00m folder \u001b[38;5;129;01min\u001b[39;00m \u001b[43mlst\u001b[49m:\n\u001b[1;32m      9\u001b[0m         pilfile \u001b[38;5;241m=\u001b[39m glob\u001b[38;5;241m.\u001b[39mglob(os\u001b[38;5;241m.\u001b[39mpath\u001b[38;5;241m.\u001b[39mjoin(folder,\u001b[38;5;124m\"\u001b[39m\u001b[38;5;124m*.pil\u001b[39m\u001b[38;5;124m\"\u001b[39m))\n\u001b[1;32m     10\u001b[0m         sizefile \u001b[38;5;241m=\u001b[39m glob\u001b[38;5;241m.\u001b[39mglob(os\u001b[38;5;241m.\u001b[39mpath\u001b[38;5;241m.\u001b[39mjoin(folder,\u001b[38;5;124m\"\u001b[39m\u001b[38;5;124mmeanlog.csv\u001b[39m\u001b[38;5;124m\"\u001b[39m))\n",
      "\u001b[0;31mNameError\u001b[0m: name 'lst' is not defined"
     ]
    }
   ],
   "source": [
    "logfilename = \"original_strand_log.txt\"\n",
    "strand_and_mean_logfilename = \"strand_and_mean_log.csv\"\n",
    "\n",
    "with open(strand_and_mean_logfilename,\"w\") as s_m_log:\n",
    "    print(\"strands,size_mean,filepath\",file = s_m_log)\n",
    "    \n",
    "    with open(logfilename,\"w\") as log:\n",
    "        for folder in lst:\n",
    "            pilfile = glob.glob(os.path.join(folder,\"*.pil\"))\n",
    "            sizefile = glob.glob(os.path.join(folder,\"meanlog.csv\"))\n",
    "\n",
    "            if os.stat(pilfile[0]).st_size == 0:\n",
    "                print(pilfile, \"\\n\\n : NO DATA\\n\", file = log)\n",
    "            else:\n",
    "                strands = []\n",
    "                with open(pilfile[0],\"r\") as f:\n",
    "                    print(pilfile[0],\"\\n\", file = log)\n",
    "                    data = f.readlines()\n",
    "\n",
    "                    for line in data:\n",
    "                        if \"# Resting complexes\" in line:\n",
    "                            print(line, file = log)\n",
    "                        elif \"# Transient complexes\" in line:\n",
    "                            print(line, file = log)\n",
    "                        elif line[0] == \"s\":\n",
    "                            print(line, file = log)\n",
    "                            print(line)\n",
    "                            strands.append(line.split(\" = \")[1].split(\"@\")[0])\n",
    "                            print(line.split(\" = \")[1].split(\"@\")[0])\n",
    "\n",
    "                    print(\"used strands : \\n\",strands, \"\\n\", file = log)\n",
    "                    \n",
    "                    if os.stat(sizefile[0]).st_size == 0:\n",
    "                        print(sizefile[0], \"\\n\\n : NO DATA\\n\", file = log)\n",
    "                    else:\n",
    "                        df = pd.read_csv(sizefile[0])\n",
    "                        df.columns = df.columns.str.replace(\" \",\"\")\n",
    "                        print(\"convexhull mean : \", df.loc[:,\"convexhull_mean\"].values[0], \"\\n\", file = log)\n",
    "                        print(pilfile[0])\n",
    "                        print(\"+\".join(sorted(strands)),\",\",df.loc[:,\"convexhull_mean\"].values[0],\",\",pilfile[0], file = s_m_log)\n",
    "            print(\"-----{} end-----\\n\\n\".format(folder), file = log)\n",
    "\n"
   ]
  },
  {
   "cell_type": "code",
   "execution_count": null,
   "id": "c4595974-6f92-46cf-a67c-47146e622d33",
   "metadata": {},
   "outputs": [],
   "source": []
  },
  {
   "cell_type": "code",
   "execution_count": null,
   "id": "943cc378-1bb6-42d1-ab42-909284073015",
   "metadata": {},
   "outputs": [],
   "source": []
  }
 ],
 "metadata": {
  "kernelspec": {
   "display_name": "Python 3 (ipykernel)",
   "language": "python",
   "name": "python3"
  },
  "language_info": {
   "codemirror_mode": {
    "name": "ipython",
    "version": 3
   },
   "file_extension": ".py",
   "mimetype": "text/x-python",
   "name": "python",
   "nbconvert_exporter": "python",
   "pygments_lexer": "ipython3",
   "version": "3.9.0"
  }
 },
 "nbformat": 4,
 "nbformat_minor": 5
}
