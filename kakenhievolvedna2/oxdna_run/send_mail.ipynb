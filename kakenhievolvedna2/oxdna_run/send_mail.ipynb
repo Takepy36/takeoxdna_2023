{
 "cells": [
  {
   "cell_type": "code",
   "execution_count": 392,
   "id": "28589beb-17e3-41b7-9400-5308d834c21f",
   "metadata": {},
   "outputs": [],
   "source": [
    "import smtplib\n",
    "from email.mime.multipart import  MIMEMultipart\n",
    "from email.mime.text import MIMEText"
   ]
  },
  {
   "cell_type": "code",
   "execution_count": 5,
   "id": "fc506169-c623-4034-96c2-081e8c483e13",
   "metadata": {},
   "outputs": [],
   "source": [
    "def program_complete_mail(login_address = \"superyoshibros.2@gmail.com\",\n",
    "                          login_password = \"fmhskhrkyiwljoye\",\n",
    "                          mail_title = \"🎉🎉🎉PYTHON PROGRAM COMPLETED！🎉🎉🎉\",\n",
    "                          mailtext = \"program completed\"):\n",
    "    smtp_server = \"smtp.gmail.com\"\n",
    "    port = 587\n",
    "    server = smtplib.SMTP(smtp_server, port)\n",
    "    server.ehlo()\n",
    "    server.starttls()\n",
    "    \n",
    "    server.login(login_address, login_password)\n",
    "    \n",
    "    message = MIMEMultipart()\n",
    "    message[\"Subject\"] = mail_title\n",
    "    message[\"From\"] = login_address\n",
    "    message[\"To\"] = login_address\n",
    "    text = MIMEText(mailtext)\n",
    "    #例:\"🎉🎉🎉Python program 【{}】 completed!🎉🎉🎉\".format(program_name)\n",
    "    message.attach(text)\n",
    "    \n",
    "    server.send_message(message)\n",
    "    server.quit()"
   ]
  },
  {
   "cell_type": "code",
   "execution_count": 2,
   "id": "4926cab1-f51f-4c7b-9a76-7f8a459c94b0",
   "metadata": {},
   "outputs": [],
   "source": [
    "def main():\n",
    "    program_complete_mail()"
   ]
  },
  {
   "cell_type": "code",
   "execution_count": 3,
   "id": "bfbd0a42-aab7-4151-9602-c23ee43cd971",
   "metadata": {},
   "outputs": [
    {
     "ename": "NameError",
     "evalue": "name 'smtplib' is not defined",
     "output_type": "error",
     "traceback": [
      "\u001b[0;31m---------------------------------------------------------------------------\u001b[0m",
      "\u001b[0;31mNameError\u001b[0m                                 Traceback (most recent call last)",
      "Input \u001b[0;32mIn [3]\u001b[0m, in \u001b[0;36m<cell line: 1>\u001b[0;34m()\u001b[0m\n\u001b[1;32m      1\u001b[0m \u001b[38;5;28;01mif\u001b[39;00m \u001b[38;5;18m__name__\u001b[39m \u001b[38;5;241m==\u001b[39m \u001b[38;5;124m\"\u001b[39m\u001b[38;5;124m__main__\u001b[39m\u001b[38;5;124m\"\u001b[39m:\n\u001b[0;32m----> 2\u001b[0m     \u001b[43mmain\u001b[49m\u001b[43m(\u001b[49m\u001b[43m)\u001b[49m\n",
      "Input \u001b[0;32mIn [2]\u001b[0m, in \u001b[0;36mmain\u001b[0;34m()\u001b[0m\n\u001b[1;32m      1\u001b[0m \u001b[38;5;28;01mdef\u001b[39;00m \u001b[38;5;21mmain\u001b[39m():\n\u001b[0;32m----> 2\u001b[0m     \u001b[43mprogram_complete_mail\u001b[49m\u001b[43m(\u001b[49m\u001b[43m)\u001b[49m\n",
      "Input \u001b[0;32mIn [1]\u001b[0m, in \u001b[0;36mprogram_complete_mail\u001b[0;34m(login_address, login_password, program_name)\u001b[0m\n\u001b[1;32m      4\u001b[0m smtp_server \u001b[38;5;241m=\u001b[39m \u001b[38;5;124m\"\u001b[39m\u001b[38;5;124msmtp.gmail.com\u001b[39m\u001b[38;5;124m\"\u001b[39m\n\u001b[1;32m      5\u001b[0m port \u001b[38;5;241m=\u001b[39m \u001b[38;5;241m587\u001b[39m\n\u001b[0;32m----> 6\u001b[0m server \u001b[38;5;241m=\u001b[39m \u001b[43msmtplib\u001b[49m\u001b[38;5;241m.\u001b[39mSMTP(smtp_server, port)\n\u001b[1;32m      7\u001b[0m server\u001b[38;5;241m.\u001b[39mehlo()\n\u001b[1;32m      8\u001b[0m server\u001b[38;5;241m.\u001b[39mstarttls()\n",
      "\u001b[0;31mNameError\u001b[0m: name 'smtplib' is not defined"
     ]
    }
   ],
   "source": [
    "if __name__ == \"__main__\":\n",
    "    main()"
   ]
  },
  {
   "cell_type": "markdown",
   "id": "2affb012-901b-4a6a-a678-b50d072ab21e",
   "metadata": {},
   "source": [
    "参考：<br>\n",
    "https://gakushikiweblog.com/python-email <br>\n",
    "https://support.google.com/accounts/answer/185833?hl=ja"
   ]
  },
  {
   "cell_type": "code",
   "execution_count": null,
   "id": "6a29b468-74e1-4203-a9dd-50e2ba9f015b",
   "metadata": {},
   "outputs": [],
   "source": []
  }
 ],
 "metadata": {
  "kernelspec": {
   "display_name": "python3.9.0",
   "language": "python",
   "name": "python3.9.0"
  },
  "language_info": {
   "codemirror_mode": {
    "name": "ipython",
    "version": 3
   },
   "file_extension": ".py",
   "mimetype": "text/x-python",
   "name": "python",
   "nbconvert_exporter": "python",
   "pygments_lexer": "ipython3",
   "version": "3.9.0"
  }
 },
 "nbformat": 4,
 "nbformat_minor": 5
}
