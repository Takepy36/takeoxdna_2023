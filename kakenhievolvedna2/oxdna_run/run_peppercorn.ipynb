{
 "cells": [
  {
   "cell_type": "markdown",
   "id": "c4eb18ce-0b11-4946-a0a7-40d2ca30f4c4",
   "metadata": {},
   "source": [
    "# 構造を得る\n",
    "peppercorn入力ファイルを作り、peppercornを利用して構造を得る。"
   ]
  },
  {
   "cell_type": "code",
   "execution_count": 1,
   "id": "9993ebbc-f045-46d0-84df-7f18156b4857",
   "metadata": {},
   "outputs": [
    {
     "data": {
      "text/plain": [
       "<module 'make_filepath' from '/Users/takepy/takeoxdna/kakenhievolvedna2/oxdna_run/make_filepath.py'>"
      ]
     },
     "execution_count": 1,
     "metadata": {},
     "output_type": "execute_result"
    }
   ],
   "source": [
    "import subprocess as sp\n",
    "import importlib\n",
    "import os\n",
    "import main\n",
    "import use_pickle\n",
    "import make_filepath\n",
    "importlib.reload(use_pickle)\n",
    "importlib.reload(main)\n",
    "importlib.reload(make_filepath)"
   ]
  },
  {
   "cell_type": "code",
   "execution_count": 2,
   "id": "8e7e98aa-6453-4380-881e-6401a49c5462",
   "metadata": {},
   "outputs": [],
   "source": [
    "def run_sp_with_log(executable,logfilepath):\n",
    "    logfile = open(logfilepath,\"w\")\n",
    "    sp.run(executable,stdout=logfile,stderr=logfile)"
   ]
  },
  {
   "cell_type": "code",
   "execution_count": 3,
   "id": "99f8c0f1-8626-4f27-8431-426e95423920",
   "metadata": {},
   "outputs": [],
   "source": [
    "def write_list_to_txt(lst,path):\n",
    "    with open(path,\"w\") as f:\n",
    "        contents = \"\\n\".join(lst)\n",
    "        f.write(contents)"
   ]
  },
  {
   "cell_type": "code",
   "execution_count": 4,
   "id": "a336ca0b-5783-4bf0-b6e7-7e39a250ca1c",
   "metadata": {},
   "outputs": [],
   "source": [
    "def make_peppercorn_input(dirpath,length_a,length_b,strands_list,filename_num):\n",
    "    #example:[['a', 'a', 'b*', 'b*'], ['a*', 'a*', 'b', 'b']]\n",
    "    #filepath = dirpath+\"/\"+filename_num+\"_peppercorn_input.pil\"\n",
    "    filepath = dirpath+\"peppercorn_input.pil\"\n",
    "    with open (filepath,\"w\") as f:\n",
    "        f.write(\"length a = \" + str(length_a) + \"\\n\")\n",
    "        f.write(\"length b = \" + str(length_b) + \"\\n\")\n",
    "        \n",
    "        for count,strands_set in enumerate(strands_list):\n",
    "            f.write(\"s{} = \".format(str(count)))\n",
    "            for character in strands_set:       \n",
    "                f.write(character + \" \")\n",
    "            f.write(\"@ initial 1.0 M\\n\")\n",
    "        f.close()\n",
    "        #print(\"saved:\",filepath)\n",
    "    return filepath"
   ]
  },
  {
   "cell_type": "code",
   "execution_count": 5,
   "id": "6fb4a3cd-6b5f-42f1-9819-a22d37552787",
   "metadata": {},
   "outputs": [],
   "source": [
    "def run_peppercorn(input_filepath,output_filepath,max_complex_size,\n",
    "                   peppercorn_dirpath = \"../peppercornenumerator\"):\n",
    "    #max_complex_sizeはデバッグの際に変更して使える。\n",
    "    executable = [\"peppercorn\",\"-o\",\n",
    "                  output_filepath,\n",
    "                  \"--max-complex-size\",str(max_complex_size),input_filepath]\n",
    "    logfilepath = os.path.splitext(input_filepath)[0]+\"_log.txt\"\n",
    "    run_sp_with_log(executable,logfilepath)\n",
    "    # logfile = open(logfilepath,\"w\")\n",
    "    # sp.run(executable,stdout=logfile,stderr=logfile)"
   ]
  },
  {
   "cell_type": "code",
   "execution_count": 7,
   "id": "5e9c225c-8972-4fb9-af57-9ca59ad290a9",
   "metadata": {},
   "outputs": [],
   "source": [
    "def make_untrusted_strands_files(untrusted_strands_list,\n",
    "                                 untrusted_strands_index,\n",
    "                                 length_a,length_b,\n",
    "                                 max_complex_size,dirpath):\n",
    "    str_a = main.get_random_DNA(length_a)\n",
    "    str_b = main.get_random_DNA(length_b)\n",
    "    str_a_star = main.get_comp_DNA(str_a)\n",
    "    str_b_star = main.get_comp_DNA(str_b)\n",
    "    strands_dict = {'a':str_a, 'b':str_b, 'a*':str_a_star, 'b*':str_b_star}\n",
    "    \n",
    "    untrusted_peppercorn_outputs = []\n",
    "    for list_index,strands_list in enumerate(untrusted_strands_list):\n",
    "        sets_path = make_filepath.make_dir(\n",
    "            dirpath,\n",
    "            \"untrusted_strands_set\"+str(untrusted_strands_index[list_index]))\n",
    "        \n",
    "        peppercorn_input_path = make_peppercorn_input(\n",
    "            sets_path,length_a,length_b,strands_list,\n",
    "            str(untrusted_strands_index[list_index]))\n",
    "        \n",
    "        peppercorn_output_path = os.path.join(\n",
    "            sets_path,\n",
    "            str(\"peppercorn_output.pil\"))\n",
    "            #str(untrusted_strands_index[list_index])+\"_peppercorn_output.pil\")\n",
    "        \n",
    "        run_peppercorn(peppercorn_input_path,peppercorn_output_path,max_complex_size)\n",
    "        \n",
    "        untrusted_peppercorn_outputs.append(peppercorn_output_path)\n",
    "        \n",
    "    return untrusted_peppercorn_outputs"
   ]
  },
  {
   "cell_type": "code",
   "execution_count": null,
   "id": "204fe0e3-297b-4646-adb9-04f7377cd654",
   "metadata": {},
   "outputs": [],
   "source": []
  },
  {
   "cell_type": "code",
   "execution_count": null,
   "id": "a98f4e67-537b-4f46-bcba-75df0d2da336",
   "metadata": {},
   "outputs": [],
   "source": []
  }
 ],
 "metadata": {
  "kernelspec": {
   "display_name": "python3.9.0",
   "language": "python",
   "name": "python3.9.0"
  },
  "language_info": {
   "codemirror_mode": {
    "name": "ipython",
    "version": 3
   },
   "file_extension": ".py",
   "mimetype": "text/x-python",
   "name": "python",
   "nbconvert_exporter": "python",
   "pygments_lexer": "ipython3",
   "version": "3.9.0"
  }
 },
 "nbformat": 4,
 "nbformat_minor": 5
}
