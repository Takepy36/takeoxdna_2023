{
 "cells": [
  {
   "cell_type": "code",
   "execution_count": 3,
   "id": "052074c6-9996-4964-8234-3bc1d2543b83",
   "metadata": {},
   "outputs": [],
   "source": [
    "import pandas as pd\n",
    "import os\n",
    "import re"
   ]
  },
  {
   "cell_type": "code",
   "execution_count": 1,
   "id": "56a6cbfd-6cf3-413b-b9c2-9f4f9d8ebc25",
   "metadata": {},
   "outputs": [],
   "source": [
    "# #test\n",
    "# #[time (steps * dt)]\t[potential energy]\t[kinetic energy]\t[total energy]\n",
    "# output_folder = \"sim_result_peppercorn_2022-08-27_04_33_17385170\"\n",
    "# target = \"e0\"\n",
    "# energy_file = os.path.join(output_folder,\"{}_energy.dat\".format(target))\n",
    "# with open(energy_file,\"r\") as f:\n",
    "#     d = f.readlines()\n",
    "#     data = []\n",
    "#     for line in d:\n",
    "#         data.append(re.findall(r\"([-+]?\\d+.?\\d*)\", line))\n",
    "\n",
    "# energy_df = pd.DataFrame((data),columns=[\"time\",\"potential_energy\",\"kinetic_energy\",\"total_energy\"])\n",
    "# energy_df.loc[:,\"potential_energy\"].astype(float).mean()"
   ]
  },
  {
   "cell_type": "code",
   "execution_count": 8,
   "id": "29db1f1d-95e7-4f3c-9f61-6f5549292d69",
   "metadata": {},
   "outputs": [],
   "source": [
    "def potential_energy_mean(output_folder,target):\n",
    "    energy_file = os.path.join(output_folder,\"{}_energy.dat\".format(target))\n",
    "    with open(energy_file,\"r\") as f:\n",
    "        d = f.readlines()\n",
    "        data = []\n",
    "        for line in d:\n",
    "            data.append(re.findall(r\"([-+]?\\d+.?\\d*)\", line))\n",
    "\n",
    "    energy_df = pd.DataFrame((data),columns=[\"time\",\"potential_energy\",\"kinetic_energy\",\"total_energy\"])\n",
    "    return energy_df.loc[:,\"potential_energy\"].astype(float).mean()"
   ]
  },
  {
   "cell_type": "code",
   "execution_count": 2,
   "id": "4123bfde-f7a6-4b5f-9129-38fc081407f4",
   "metadata": {},
   "outputs": [],
   "source": [
    "# output_folder = \"sim_result_peppercorn_2022-08-27_04_33_17385170\"\n",
    "# target = \"e0\"\n",
    "# potential_energy_mean(output_folder,target)"
   ]
  }
 ],
 "metadata": {
  "kernelspec": {
   "display_name": "Python 3 (ipykernel)",
   "language": "python",
   "name": "python3"
  },
  "language_info": {
   "codemirror_mode": {
    "name": "ipython",
    "version": 3
   },
   "file_extension": ".py",
   "mimetype": "text/x-python",
   "name": "python",
   "nbconvert_exporter": "python",
   "pygments_lexer": "ipython3",
   "version": "3.9.0"
  }
 },
 "nbformat": 4,
 "nbformat_minor": 5
}
