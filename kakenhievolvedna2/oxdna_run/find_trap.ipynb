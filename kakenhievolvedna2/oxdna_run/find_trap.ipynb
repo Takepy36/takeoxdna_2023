{
 "cells": [
  {
   "cell_type": "code",
   "execution_count": null,
   "metadata": {},
   "outputs": [],
   "source": [
    "import re\n",
    "import sys\n",
    "import random\n",
    "import os\n",
    "import subprocess as sp\n",
    "from multiprocessing.pool import Pool\n",
    "import shutil\n",
    "import pandas as pd\n",
    "import matplotlib as mpl\n",
    "import matplotlib.pyplot as plt\n",
    "import importlib\n",
    "import functools\n",
    "\n",
    "import find_trap as findtrap\n",
    "import run_output_bonds_func as robf\n",
    "import convexhull as cvh\n",
    "import vista_func as vf\n",
    "import get_coordinate as gc\n",
    "import config as cfg\n",
    "importlib.reload(findtrap)\n",
    "importlib.reload(robf)\n",
    "importlib.reload(cvh)\n",
    "importlib.reload(vf)\n",
    "importlib.reload(cfg)"
   ]
  },
  {
   "cell_type": "code",
   "execution_count": 4,
   "metadata": {},
   "outputs": [],
   "source": [
    "def make_domain_list(linelist, length_dict):\n",
    "    index_domains = []\n",
    "    \n",
    "    count_start = 0\n",
    "    \n",
    "    for block in linelist:\n",
    "        #print(\"block : \", block)\n",
    "    \n",
    "        for b in block:\n",
    "            count_end = count_start + length_dict[b[0][0]]\n",
    "            index_domains.append([b[0],b[1],count_start,count_end-1])\n",
    "            count_start = count_end\n",
    "        \n",
    "        #index_domain.append( index_domain1 + index_domain2 + [block])\n",
    "        print(index_domains)\n",
    "    return index_domains"
   ]
  },
  {
   "cell_type": "code",
   "execution_count": null,
   "metadata": {},
   "outputs": [],
   "source": [
    "def make_domain_df(lst):\n",
    "    df2 = pd.DataFrame(lst, columns =[\"domain\", \"num\", \"start_index\", \"end_index\"])\n",
    "    return df2"
   ]
  },
  {
   "cell_type": "code",
   "execution_count": null,
   "metadata": {},
   "outputs": [],
   "source": [
    "def drop_not_connected(df):\n",
    "    newdf = df[df['num'] >= 0]\n",
    "    return newdf"
   ]
  },
  {
   "cell_type": "code",
   "execution_count": null,
   "metadata": {},
   "outputs": [],
   "source": [
    "def make_groups(df):\n",
    "    pairs = df.groupby([\"num\"])\n",
    "    return pairs\n"
   ]
  },
  {
   "cell_type": "code",
   "execution_count": null,
   "metadata": {},
   "outputs": [],
   "source": [
    "def count_domains(df):\n",
    "    df_pairs = pd.DataFrame(df[\"num\"].value_counts())\n",
    "    return len(df_pairs)"
   ]
  },
  {
   "cell_type": "code",
   "execution_count": 2,
   "metadata": {},
   "outputs": [],
   "source": [
    "def make_external(df, target, output_dir):\n",
    "    try : \n",
    "        #output_path = \"traps/external_{}.conf\".format(target)\n",
    "        output_path = os.path.join(output_dir, \"{}_external.conf\".format(target))\n",
    "        external_file = open(output_path, \"w\")\n",
    "        domains_num = count_domains(df)\n",
    "        pairs = make_groups(df)\n",
    "        #print(pairs.groups)\n",
    "        \n",
    "        for x in range (0, domains_num):  \n",
    "            #print(\"roop\", x)\n",
    "            group = pairs.get_group(x)\n",
    "            #print(\"group:\\n\", group, \"\\n\")\n",
    "            start_index_min = group[\"start_index\"].min()\n",
    "            end_index_max =  group[\"end_index\"].max()\n",
    "            #print(\"index : \", start_index_min, \" \" , end_index_max)\n",
    "            lines = [\"{\\n\",\"type = mutual_trap\\n\",\"particle = {}\\n\".format(start_index_min),\"ref_particle = {}\\n\".format(end_index_max),\"stiff = 1.\\n\",\"r0 = 1.2\\n\",\"}\\n\"\"{\\n\", \"type = mutual_trap\\n\",\"particle = {}\\n\".format(end_index_max),\"ref_particle = {}\\n\".format(start_index_min),\"stiff = 1.\\n\",\"r0 = 1.2\\n\",\"}\\n\"]\n",
    "            external_file.writelines(lines)\n",
    "        external_file.close()\n",
    "        print(output_path, \" was created\\n\")\n",
    "    except KeyError:\n",
    "        print(\"group {} does not exist\".format(x))"
   ]
  },
  {
   "cell_type": "code",
   "execution_count": 3,
   "metadata": {},
   "outputs": [],
   "source": [
    "def make_trap(linelist, length_dict, target, output_dir):\n",
    "    #print(linelist, \"\\n\")\n",
    "    domain_list = make_domain_list(linelist, length_dict)\n",
    "    #print(\"domain_list : \", domain_list, \"\\n\")\n",
    "    domain_df = make_domain_df(domain_list)\n",
    "    #print(\"domain_df : \\n\", domain_df)\n",
    "    connected_df = drop_not_connected(domain_df)\n",
    "    #print(\"connected_df : \\n\", connected_df)\n",
    "    make_external(connected_df, target, output_dir)\n",
    "    return domain_list"
   ]
  },
  {
   "cell_type": "code",
   "execution_count": null,
   "metadata": {},
   "outputs": [],
   "source": [
    "def main():\n",
    "    domain_list = make_trap(replaced_linelist, tup, target, output_folder)\n",
    "    \n",
    "    \n"
   ]
  },
  {
   "cell_type": "code",
   "execution_count": null,
   "metadata": {
    "tags": []
   },
   "outputs": [],
   "source": [
    "#mainよりコピー\n",
    "def replace_parentheses(given_string):\n",
    "    print(\"domains : \", given_string)\n",
    "    given_string = given_string.split(\"=\")[1]\n",
    "    stack = []#今見ている括弧とマッチさせる括弧を置くスタック。\n",
    "    strand_list = []#strandができたら、ここに貯める。\n",
    "    current_strand = []#現在見ているstrandを作る。a,b,*からなる。\n",
    "    accumulate = []#current_strandに追加する文字を格納する。\n",
    "    \n",
    "    num = 0#それぞれのペアのid\n",
    "    numpile = []\n",
    "    \n",
    "    for index, character in enumerate(given_string):#indexは使わない。\n",
    "        \n",
    "        if character == ' ' or character =='\\n':\n",
    "            if accumulate: #is not [ ]\n",
    "                current_strand.append((''.join(accumulate), -1))#accumulateが空でなければ、それを文字列化してcurrent_strandに追加\n",
    "                accumulate = []#追加した後は空にする。    \n",
    "                #もともと空の場合は何もしない。                \n",
    "            \n",
    "        elif character == '(':#開き括弧の場合\n",
    "            if accumulate:\n",
    "                current_strand.append((''.join(accumulate), num))#join部分は、accumulateを文字列化したものを返す\n",
    "                accumulate = []#追加した後は空にする。    \n",
    "                numpile.append(num)\n",
    "                num += 1 \n",
    "            stack.append(current_strand[-1][0])#現在の文字列の最後尾をstackに追加\n",
    "        \n",
    "        elif character == \")\":#閉じ括弧の場合\n",
    "            current_strand.append((complementary(stack.pop()), numpile.pop()))\n",
    "            #st.popでstに最後に入れたものを取り出し、complementaryに与える。\n",
    "            #complementaryにstackから取り出したものを与えると、最後に見た\" ( \"に対応する、\" ) \"の置き換え先が返る。\n",
    "            \n",
    "        elif character == \"+\":\n",
    "            strand_list.append(current_strand)#strandの区切り。strandをstrand_listに与えて、current_strandをリセットする。\n",
    "            current_strand = []\n",
    "            \n",
    "        else:#strandの文字列であれば\n",
    "            accumulate.append(character)#accumulateに追加する。\n",
    "\n",
    "    if current_strand: # is not [ ] \n",
    "        strand_list.append(current_strand)#最後にcurrent_strandに残ったものをstrand_listに追加\n",
    "    return strand_list#リストの各要素は、['a', 'b*']のような形\n",
    "\n",
    "\n",
    "string = \"e2977 = a*( b( a*( ) + ) a* ) b*( + a* ) a*( )\"\n",
    "replace_parentheses(string)"
   ]
  },
  {
   "cell_type": "code",
   "execution_count": null,
   "metadata": {},
   "outputs": [],
   "source": []
  },
  {
   "cell_type": "code",
   "execution_count": null,
   "metadata": {},
   "outputs": [],
   "source": []
  }
 ],
 "metadata": {
  "kernelspec": {
   "display_name": "Python 3 (ipykernel)",
   "language": "python",
   "name": "python3"
  },
  "language_info": {
   "codemirror_mode": {
    "name": "ipython",
    "version": 3
   },
   "file_extension": ".py",
   "mimetype": "text/x-python",
   "name": "python",
   "nbconvert_exporter": "python",
   "pygments_lexer": "ipython3",
   "version": "3.9.0"
  }
 },
 "nbformat": 4,
 "nbformat_minor": 4
}
