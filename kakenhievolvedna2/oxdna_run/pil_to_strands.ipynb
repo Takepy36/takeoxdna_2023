{
 "cells": [
  {
   "cell_type": "code",
   "execution_count": 1,
   "id": "0fd13611-7231-41bf-8e89-15543d698a31",
   "metadata": {},
   "outputs": [],
   "source": [
    "import os\n",
    "import pandas as pd\n",
    "import glob\n",
    "import re\n",
    "import importlib"
   ]
  },
  {
   "cell_type": "code",
   "execution_count": 9,
   "id": "026a983b-c832-4718-ae6b-45c613d42a92",
   "metadata": {},
   "outputs": [],
   "source": [
    "def replace_strand(contents):\n",
    "    #print(contents, \"→\")\n",
    "    contents = contents.replace(\"a*\",\"2\").replace(\"b*\",\"3\")\n",
    "    contents = contents.replace(\"a\",\"0\").replace(\"b\",\"1\").replace(\" \",\"\")\n",
    "    #print(contents)\n",
    "    return contents\n",
    "\n",
    "# test_data = \" \".join([\"a\",\"a\",\"a\",\"b*\"])\n",
    "# replace_strand(test_data)"
   ]
  },
  {
   "cell_type": "code",
   "execution_count": 27,
   "id": "c060d9e9-9139-4e30-bfc8-8b21d7fbdb73",
   "metadata": {},
   "outputs": [],
   "source": [
    "def get_strands_data(filepath):\n",
    "    strands = []\n",
    "    with open(filepath,\"r\") as f:#pilファイルを開く\n",
    "        data = f.readlines()\n",
    "        \n",
    "        start = 0\n",
    "        end = 0\n",
    "        \n",
    "        for index, line in enumerate(data):\n",
    "            if \"# Resting complexes\" in line:\n",
    "                start = index\n",
    "            elif \"# Detailed reactions\" in line:\n",
    "                end = index\n",
    "                break\n",
    "                \n",
    "        for line in data[start+1:end]:\n",
    "            if \"#\" not in line and \"s\" in line:\n",
    "                strand = re.findall(r's+\\d+',line)[0]\n",
    "                contents = list(filter(None,re.findall(r'(a\\*?|b\\*?)\\s',line)))\n",
    "                ID = replace_strand(\" \".join(contents))\n",
    "                num = int(ID,4)\n",
    "                #わざわざこのように書くのは、後から親ディレクトリ名が変わった場合に対応するため。\n",
    "                filepath_data = os.path.join(\n",
    "                    os.path.basename(os.path.dirname(filepath)),\n",
    "                    os.path.basename(filepath))\n",
    "                strands.append([strand,ID,num,contents,filepath_data])\n",
    "    #print(\"🧬\", strands)\n",
    "    return strands\n",
    "#filepath = \"/Users/takepy/takeoxdna/kakenhievolvedna2/oxdna_run/sim_result_peppercorn_2022-10-12_21_05_15180339/outputPepperCorn20220728042950_16216627496182999931957018208784722064_0.pil\"  \n",
    "#get_strands(filepath)"
   ]
  },
  {
   "cell_type": "code",
   "execution_count": 28,
   "id": "b466c685-e13d-4b9c-9647-10b75a432815",
   "metadata": {},
   "outputs": [],
   "source": [
    "def get_all_strands(pilfile_path_list):\n",
    "    strands_df = pd.DataFrame([])\n",
    "    strands_lst = []\n",
    "    for pilfile_path in pilfile_path_list:\n",
    "        strands = get_strands_data(pilfile_path)\n",
    "        df = pd.DataFrame(strands)\n",
    "        df.columns = [\"strand_num\",\"strand_set_id\",\"strand_set_num\",\"strand_set\",\"pilfile_path\"]\n",
    "        df.to_csv(pilfile_path.replace(\"pil\",\"csv\"),index=None)\n",
    "        strands_df = pd.concat([strands_df,df],axis = 0)\n",
    "    return strands_df"
   ]
  },
  {
   "cell_type": "code",
   "execution_count": 29,
   "id": "eece01d9-13f0-4036-9eca-180182c1345c",
   "metadata": {},
   "outputs": [],
   "source": [
    "def run_all(results_path_lst,strands_csv_path):\n",
    "    #results_lst = glob.glob(\"../results/peppercorn*\")\n",
    "    strands_df = get_all_strands(results_path_lst)\n",
    "    strands_df.to_csv(strands_csv_path,index=None)\n",
    "    return strands_df"
   ]
  },
  {
   "cell_type": "code",
   "execution_count": 30,
   "id": "91a8f006-c343-409e-8d16-1023d27a0e51",
   "metadata": {},
   "outputs": [],
   "source": [
    "# def main():\n",
    "#     results_path_lst = glob.glob(os.path.join(\"2023-07-31\",\"sim_result_peppercorn*\",\"*.pil\"))\n",
    "#     run_all(results_path_lst,\"2023-07-31/strands.csv\")"
   ]
  },
  {
   "cell_type": "code",
   "execution_count": 1,
   "id": "cbc2ba16-7aa0-44b2-83fc-dd174869b467",
   "metadata": {},
   "outputs": [],
   "source": [
    "# #test\n",
    "# main()"
   ]
  },
  {
   "cell_type": "code",
   "execution_count": 32,
   "id": "cc03159d-0060-4930-b6e8-3248ddd8d2cd",
   "metadata": {},
   "outputs": [],
   "source": [
    "if __name__ == \"__main__\":\n",
    "    main()"
   ]
  }
 ],
 "metadata": {
  "kernelspec": {
   "display_name": "Python 3 (ipykernel)",
   "language": "python",
   "name": "python3"
  },
  "language_info": {
   "codemirror_mode": {
    "name": "ipython",
    "version": 3
   },
   "file_extension": ".py",
   "mimetype": "text/x-python",
   "name": "python",
   "nbconvert_exporter": "python",
   "pygments_lexer": "ipython3",
   "version": "3.9.0"
  }
 },
 "nbformat": 4,
 "nbformat_minor": 5
}
