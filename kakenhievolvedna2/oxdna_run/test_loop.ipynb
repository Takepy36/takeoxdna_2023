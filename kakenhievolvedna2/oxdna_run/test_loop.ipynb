{
 "cells": [
  {
   "cell_type": "markdown",
   "id": "5b817e18-183f-47c4-add5-8e75d009d7df",
   "metadata": {},
   "source": [
    "見つかった不具合(1)<br>\n",
    "ストランドがa,a*しかない、あるいはb,b*しかない場合、*_peppercorn_output.pilに無い方のストランド長が書かれないので、main.pyがうまくファイルを読み取れずに失敗する。<br><br>\n",
    "見つかった不具合(2)<br>\n",
    "peppercornがそのストランド組み合わせで構造を発見できず、エネルギーの値を持たないenergy_log.csv,oxdna_energy_mean.csvだけが残る場合がある。"
   ]
  },
  {
   "cell_type": "code",
   "execution_count": 3,
   "id": "6fcc7418-6153-49cb-a14b-789b9e4ec174",
   "metadata": {},
   "outputs": [],
   "source": [
    "import os\n",
    "import importlib\n",
    "import warnings\n",
    "warnings.filterwarnings('ignore')\n",
    "import use_pickle\n",
    "importlib.reload(use_pickle)\n",
    "import make_filepath\n",
    "importlib.reload(make_filepath)\n",
    "import glob\n",
    "import pandas as pd\n",
    "from contextlib import redirect_stdout\n",
    "#with redirect_stdout(open(<出力先パス>), 'w')): 処理\n",
    "import traceback\n",
    "import time\n",
    "import datetime\n",
    "import sys"
   ]
  },
  {
   "cell_type": "code",
   "execution_count": 5,
   "id": "2080bf24-e9f9-422d-9987-303654f26136",
   "metadata": {},
   "outputs": [
    {
     "data": {
      "text/plain": [
       "<module 'send_mail' from '/Users/takepy/takeoxdna/kakenhievolvedna2/oxdna_run/send_mail.py'>"
      ]
     },
     "execution_count": 5,
     "metadata": {},
     "output_type": "execute_result"
    }
   ],
   "source": [
    "import get_untrusted\n",
    "importlib.reload(get_untrusted)\n",
    "import run_peppercorn\n",
    "importlib.reload(run_peppercorn)\n",
    "import run_oxdna\n",
    "importlib.reload(run_oxdna)\n",
    "import send_mail\n",
    "importlib.reload(send_mail)\n"
   ]
  },
  {
   "cell_type": "code",
   "execution_count": 13,
   "id": "920fc95a-106c-4911-8a67-1d5a3d33ab8d",
   "metadata": {},
   "outputs": [],
   "source": [
    "def send_test_loop_mail(flag,error_message,start_datetime,end_datetime,elapsed_time):\n",
    "    if flag == \"okey\":\n",
    "        importlib.reload(send_mail)\n",
    "        textlist = [\"🎉🎉🎉Python program  【test_loop】 completed!🎉🎉🎉\",\"\\n\",\n",
    "                    \"⏰START: \",start_datetime,\"\\n\",\n",
    "                    \"⏰END: \",end_datetime,\"\\n\",\n",
    "                    \"⌛️RUN TIME: \",str(elapsed_time),\" s \\n\",\n",
    "                    \"📃MESSAGE: \",error_message]\n",
    "        text = \"\".join(textlist)\n",
    "        send_mail.program_complete_mail(mail_title = \"🐍【実行完了】 Pythonプログラム【test_loop】 が完了しました！🐍\",mailtext = text)\n",
    "    else:\n",
    "        importlib.reload(send_mail)\n",
    "        textlist = [\"😭😭Python program 【test_loop】 has ERROR!😭😭\",\"\\n\",\n",
    "                    \"⏰START: \",start_datetime,\"\\n\",\n",
    "                    \"⏰END: \",end_datetime,\"\\n\",\n",
    "                    \"⌛️RUN TIME: \",str(elapsed_time),\" s \\n\",\n",
    "                    \"📃MESSAGE: \",error_message]\n",
    "        text = \"\".join(textlist)\n",
    "        send_mail.program_complete_mail(mail_title = \"🐍【実行エラー】 Pythonプログラム 【test_loop】 でエラーが発生しました🐍\",mailtext = text)"
   ]
  },
  {
   "cell_type": "code",
   "execution_count": 14,
   "id": "89d64c1c-90ca-45a1-84e7-655bc164892a",
   "metadata": {},
   "outputs": [],
   "source": [
    "def concat_abs(binary_energy_df):\n",
    "    qdpy_oxdna_abs = abs(\n",
    "        binary_energy_df.loc[:,\"qdpy_bootstrap_energy_mean\"] - \\\n",
    "        binary_energy_df.loc[:,\"oxdna_energy_mean\"]\n",
    "    ).rename(\"qdpy_oxdna_abs\")\n",
    "    \n",
    "    return pd.concat(\n",
    "        [binary_energy_df,#.loc[:,\"qdpy_bootstrap_energy_mean\":\"oxdna_energy_mean\"],\n",
    "         qdpy_oxdna_abs],\n",
    "        axis=1)"
   ]
  },
  {
   "cell_type": "code",
   "execution_count": 15,
   "id": "b554b5b1-b798-4ce8-9a00-c597280d483c",
   "metadata": {},
   "outputs": [],
   "source": [
    "def choose_best_abs(binary_energy_df_abs,ratio=0.7):\n",
    "    return binary_energy_df_abs.\\\n",
    "        dropna(how='any').\\\n",
    "        sort_values(by=\"qdpy_oxdna_abs\", ascending=True).\\\n",
    "        head(int(len(binary_energy_df_abs)*ratio))"
   ]
  },
  {
   "cell_type": "code",
   "execution_count": 16,
   "id": "3015e8ab-1f04-4785-8905-2daf82b33073",
   "metadata": {},
   "outputs": [],
   "source": [
    "#make_new_train_dataは生成元と生成先のディレクトリ、ストランドの長さ、構造サイズの最大値を受け取る。\n",
    "#返り値は新しくモデルに与えるx,yのトレーニング用データである。\n",
    "\n",
    "def make_new_train_data(source_dir,loop_dir,length_a,length_b,max_complex_size):\n",
    "\n",
    "    with redirect_stdout(open(os.path.join(loop_dir,\"qdpy_to_untrusted_strands_log.txt\"), 'w')):\n",
    "        untrusted_df = get_untrusted.qdpy_to_untrusted_strands(source_dir,loop_dir,500)\n",
    "        #qdpyにより、配置されたストランドの情報とエネルギーの情報が得られる。\n",
    "        #生成されたファイルはloop_dirに置かれる。\n",
    "        \n",
    "    untrusted_qdpy_data = use_pickle.read_pickle(loop_dir,\"untrusted_qdpy_data.p\")\n",
    "    #untrusted....は、qdpyで得られた情報のうち、エネルギー予測の信頼度が低いと判断されるものである。\n",
    "    untrusted_qdpy_strands = use_pickle.read_pickle(loop_dir,\"untrusted_qdpy_strands.p\")\n",
    "\n",
    "    untrusted_peppercorn_outputs = run_peppercorn.make_untrusted_strands_files(\n",
    "        untrusted_qdpy_strands,\n",
    "        untrusted_qdpy_data.index,\n",
    "        length_a,length_b,max_complex_size,loop_dir)\n",
    "    #untrusted_peppercorn_outputsはoutput.pilのパス一覧。\n",
    "\n",
    "    run_oxdna.run_oxdna_main(untrusted_peppercorn_outputs,loop_dir)\n",
    "\n",
    "\n",
    "    untrusted_oxdna_energy_means = []\n",
    "    for untrusted_idx in untrusted_qdpy_data.index:\n",
    "        energy_mean_path = os.path.join(loop_dir,\n",
    "                     \"untrusted_strands_set{}\".format(str(untrusted_idx)),\n",
    "                     \"oxdna_outputs\".format(str(untrusted_idx)),\n",
    "                     \"oxdna_energy_mean.csv\")\n",
    "        if os.path.exists(energy_mean_path):\n",
    "            energy_mean = float(pd.read_csv(energy_mean_path).values[0])#oxdnaが計算した結果の平均。\n",
    "            untrusted_oxdna_energy_means.append(energy_mean)\n",
    "\n",
    "        else:\n",
    "            untrusted_oxdna_energy_means.append(None)#構造が見つからなかった場合の結果である。\n",
    "\n",
    "    energy_means_df = pd.DataFrame(untrusted_oxdna_energy_means)\n",
    "    energy_means_df.columns = [\"oxdna_energy_mean\"]\n",
    "    energy_means_df.index = untrusted_qdpy_data.index\n",
    "    binary_energy_df = pd.concat([untrusted_qdpy_data,energy_means_df],axis=1)\n",
    "\n",
    "    additional_x_train = binary_energy_df.dropna(how='any').iloc[:,0:256]#再学習対象に追加したいデータ。Noneになっている部分は除外。\n",
    "    additional_y_train = binary_energy_df.dropna(how='any').loc[:,\"oxdna_energy_mean\"]#再学習対象に追加したいデータ。\n",
    "    new_x_test = pd.concat([use_pickle.read_pickle(loop_dir,\"x_train.p\"),additional_x_train],axis=0).reset_index(drop=True)\n",
    "    new_y_test = pd.concat([use_pickle.read_pickle(loop_dir,\"y_train.p\"),additional_y_train],axis=0).reset_index(drop=True)\n",
    "    #oxDNAした結果は今のところ全て再学習に使う。\n",
    "    return new_x_test,new_y_test,binary_energy_df"
   ]
  },
  {
   "cell_type": "code",
   "execution_count": 26,
   "id": "f8d054b7-ce80-40d6-a491-b9334c20190b",
   "metadata": {},
   "outputs": [],
   "source": [
    "def run_loop(output_dir,first_source_dir,length_a,length_b,max_complex_size,loop_num):\n",
    "    #時間計測開始\n",
    "    t1 = time.time()\n",
    "    starttime = datetime.datetime.fromtimestamp(time.time())\n",
    "    start_datetime = starttime.strftime('%Y/%m/%d %H:%M:%S')\n",
    "    \n",
    "    #時間を元に、結果フォルダ作成\n",
    "    results_dir = make_filepath.make_datetime_folder(output_dir)\n",
    "    #例:2023-07-31/20230802_1925\n",
    "\n",
    "    #指定回数だけ、計算結果ファイル生成の一連の過程を実行する。\n",
    "    try:\n",
    "        for count in range(loop_num):\n",
    "\n",
    "            if count == 0:\n",
    "                source_dir = first_source_dir\n",
    "                loop_dir = make_filepath.make_count_folder(results_dir,count)\n",
    "                #例:2023-07-31/20230802_1925/loop0\n",
    "\n",
    "            else:\n",
    "                source_dir = os.path.join(results_dir,\"loop\"+str(count-1))\n",
    "                loop_dir = make_filepath.make_count_folder(results_dir,count)\n",
    "\n",
    "            new_x_test,new_y_test,binary_energy_df = make_new_train_data(\n",
    "                source_dir,loop_dir,length_a,length_b,max_complex_size)\n",
    "            \n",
    "            binary_energy_df_abs = concat_abs(binary_energy_df)\n",
    "            oxdna_repertoire = choose_best_abs(binary_energy_df_abs,ratio=0.7)\n",
    "            \n",
    "            use_pickle.dump_to_pickle(make_filepath.make_count_folder(results_dir,count+1),\n",
    "                                      [new_x_test,new_y_test],\n",
    "                                      [\"x_train\",\"y_train\"]) \n",
    "            use_pickle.dump_to_pickle(results_dir,[oxdna_repertoire],[\"oxdna_repertoire\"])\n",
    "            flag = \"okey\"\n",
    "            error_message = \"Succeeded!\"\n",
    "            \n",
    "    #エラーが起こった場合の処理\n",
    "    except Exception as e:\n",
    "        flag = str(e)\n",
    "        error_message = traceback.format_exc()\n",
    "\n",
    "    #終了時刻を求め、実行時間をはかる。\n",
    "    t2 = time.time()\n",
    "    elapsed_time = t2-t1\n",
    "    endtime = datetime.datetime.fromtimestamp(time.time())\n",
    "    end_datetime = endtime.strftime('%Y/%m/%d %H:%M:%S')\n",
    "    #終了を通知する。\n",
    "    send_test_loop_mail(flag,error_message,start_datetime,end_datetime,elapsed_time)"
   ]
  },
  {
   "cell_type": "code",
   "execution_count": 27,
   "id": "c503286d-d9fc-4b89-9d89-425ac2499cb5",
   "metadata": {},
   "outputs": [],
   "source": [
    "def main(args):\n",
    "    output_dir = args[1]\n",
    "    first_source_dir = args[2]\n",
    "    length_a = int(args[3])\n",
    "    length_b = int(args[4])\n",
    "    max_complex_size = int(args[5])\n",
    "    loop_num = int(args[6])\n",
    "    run_loop(output_dir,first_source_dir,\n",
    "             length_a,length_b,max_complex_size,loop_num)"
   ]
  },
  {
   "cell_type": "code",
   "execution_count": 28,
   "id": "0a69046c-4500-4d2b-b6b4-46cce98ffe88",
   "metadata": {},
   "outputs": [],
   "source": [
    "#main([\"\",\"20230731_0000\",\"20230731_0000\",6,7,5,2])"
   ]
  },
  {
   "cell_type": "code",
   "execution_count": null,
   "id": "eaacb0ff-cb84-4e32-adc9-1a495162b962",
   "metadata": {},
   "outputs": [],
   "source": [
    "if __name__ == \"__main__\":\n",
    "    args = sys.argv\n",
    "    sys.exit(main(args))"
   ]
  },
  {
   "cell_type": "markdown",
   "id": "45fba178-2db4-444b-b4aa-24a7406ee54b",
   "metadata": {},
   "source": [
    "(2023/7/26)<br>\n",
    "・ループの原型ができたのでは？<br>\n",
    "・実行に少々時間がかかるので、完了通知メールを送るプログラムも作っておいた。"
   ]
  },
  {
   "cell_type": "markdown",
   "id": "11017e4c-7c12-4268-b811-29d7ed8c77ef",
   "metadata": {},
   "source": [
    "(2023/7/27)<br>\n",
    "・ひとまずのループ実行に成功。<br>\n",
    "・最後に1つ余計なフォルダができてしまうのはご愛嬌。"
   ]
  },
  {
   "cell_type": "code",
   "execution_count": null,
   "id": "75d8c931-1f0f-4254-b1ab-9d56ef79a802",
   "metadata": {},
   "outputs": [],
   "source": []
  }
 ],
 "metadata": {
  "kernelspec": {
   "display_name": "Python 3 (ipykernel)",
   "language": "python",
   "name": "python3"
  },
  "language_info": {
   "codemirror_mode": {
    "name": "ipython",
    "version": 3
   },
   "file_extension": ".py",
   "mimetype": "text/x-python",
   "name": "python",
   "nbconvert_exporter": "python",
   "pygments_lexer": "ipython3",
   "version": "3.9.0"
  }
 },
 "nbformat": 4,
 "nbformat_minor": 5
}
