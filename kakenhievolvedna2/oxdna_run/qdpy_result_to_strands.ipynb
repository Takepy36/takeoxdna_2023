{
 "cells": [
  {
   "cell_type": "code",
   "execution_count": 1,
   "id": "fbe2cda8-fb69-4b6a-b584-edae5b11f82e",
   "metadata": {},
   "outputs": [
    {
     "data": {
      "text/plain": [
       "<module 'use_pickle' from '/Users/takepy/takeoxdna/kakenhievolvedna2/oxdna_run/use_pickle.py'>"
      ]
     },
     "execution_count": 1,
     "metadata": {},
     "output_type": "execute_result"
    }
   ],
   "source": [
    "import os\n",
    "import sys\n",
    "import pandas as pd\n",
    "import functools\n",
    "from qdpy import algorithms, containers, benchmarks, plots\n",
    "import pickle\n",
    "import numpy as np\n",
    "import importlib\n",
    "import matplotlib.pyplot as plt\n",
    "import seaborn as sns\n",
    "import use_pickle\n",
    "importlib.reload(use_pickle)\n",
    "#import datetime"
   ]
  },
  {
   "cell_type": "code",
   "execution_count": 3,
   "id": "1342ee7a-7d90-4dfd-8faf-ce9792a150ad",
   "metadata": {},
   "outputs": [],
   "source": [
    "#avg,std,min,max,qd_scoreのデータ型を整える。\n",
    "def cast_qdpy_iterations(results):\n",
    "    iterations_df = results[\"iterations\"]\n",
    "    cols_nd = ['avg','std', 'min', 'max', 'ft_min', 'ft_max']\n",
    "    cols_takefirst = ['avg','std', 'min', 'max']\n",
    "    cols = ['qd_score']\n",
    "    \n",
    "    type_dict = {}\n",
    "    for c in cols:\n",
    "        type_dict[c] = 'float'\n",
    "    iterations_df = iterations_df.astype(type_dict)\n",
    "    for c in cols_nd:\n",
    "        temp = iterations_df[c].apply(eval).apply(np.array)\n",
    "        iterations_df[c] = temp\n",
    "    for c in cols_takefirst:\n",
    "        temp = iterations_df[c].apply(lambda x: x[0])\n",
    "        iterations_df[c] = temp\n",
    "    return iterations_df"
   ]
  },
  {
   "cell_type": "code",
   "execution_count": 4,
   "id": "84097683-3255-487f-8e76-318a6bebd4f4",
   "metadata": {},
   "outputs": [],
   "source": [
    "def plot_qd_result(df):\n",
    "    fig, ax = plt.subplots()\n",
    "    sns.lineplot(ax=ax, data=df,x=\"iteration\", y=\"min\", label=\"min\")\n",
    "    sns.lineplot(ax=ax, data=df,x=\"iteration\", y=\"avg\", label=\"avg\")\n",
    "    sns.lineplot(ax=ax, data=df,x=\"iteration\", y=\"max\", label=\"max\")\n",
    "    ax.legend(loc = 'lower center', bbox_to_anchor=(0.5,1.05),ncol=3)"
   ]
  },
  {
   "cell_type": "code",
   "execution_count": 13,
   "id": "2581548c-3dda-4582-a51a-d56676add578",
   "metadata": {},
   "outputs": [],
   "source": [
    "def container_to_tf_list(iterations, th=0.99):\n",
    "    tf_list = []\n",
    "    for individual in iterations[\"container\"]:\n",
    "        arr = np.array(individual)>th\n",
    "        tf_list.append(arr)\n",
    "    return tf_list"
   ]
  },
  {
   "cell_type": "code",
   "execution_count": 6,
   "id": "88905b80-3d3f-4b55-8671-9c34df1fb146",
   "metadata": {},
   "outputs": [],
   "source": [
    "#ストランドが入っていないデータが生成されてしまう場合がある。\n",
    "#このような場合は除外する。\n",
    "def delete_empty_data(tetrad_list):\n",
    "    for i,line in enumerate(tetrad_list):\n",
    "        if len(line) == 0:\n",
    "            popped = tetrad_list.pop(i)\n",
    "            print(\"deleted:\",i,popped)\n",
    "    return tetrad_list"
   ]
  },
  {
   "cell_type": "code",
   "execution_count": 7,
   "id": "aa2e513e-11a9-4928-9b87-85bb12e09031",
   "metadata": {},
   "outputs": [],
   "source": [
    "def tf_to_tetrad(tf_list):#tf_listは0,1でもOK\n",
    "    # #tetradは4進数のこと。これのそれぞれの桁をaやbに置き換えればストランドになる。\n",
    "    tetrad_list = []\n",
    "    for line in tf_list:\n",
    "        tetrad = np.where(line)[0]\n",
    "        tetrad_list.append(list(tetrad))\n",
    "    return delete_empty_data(tetrad_list)"
   ]
  },
  {
   "cell_type": "code",
   "execution_count": 8,
   "id": "b8b047b7-5cc2-48fd-872f-1f0fceb6edec",
   "metadata": {},
   "outputs": [],
   "source": [
    "#true,falseで表されたstrand組み合わせデータをもらい、\n",
    "#strand組み合わせの存在バイナリを返す。\n",
    "def tetrad_to_binary(tetrad_list):#tf_listは0,1でもOK\n",
    "    binary_list = []\n",
    "    for tetrad in tetrad_list:\n",
    "        zero_ndarray = np.zeros(256,int)\n",
    "        #整数型の長さ２５６のndarrayを作った\n",
    "        for i in tetrad:\n",
    "            zero_ndarray[i] = 1\n",
    "            \n",
    "        binary_list.append(zero_ndarray)\n",
    "    return binary_list"
   ]
  },
  {
   "cell_type": "code",
   "execution_count": 9,
   "id": "25641b5f-0860-454c-89de-9ca6d1f7eedb",
   "metadata": {},
   "outputs": [],
   "source": [
    "def tetrad_to_strand(tetrad_list):\n",
    "    strand_dict1 = {\"0\":\"a\", \"1\":\"b\",\"2\":\"a*\", \"3\":\"b*\"}\n",
    "    tbl1 = str.maketrans(strand_dict1)\n",
    "    \n",
    "    strand_list = []\n",
    "    for tetrad_data in tetrad_list:\n",
    "        strand_data = []\n",
    "        for tetrad_num in tetrad_data:\n",
    "            #strand = []\n",
    "            #0,1が4進数に置き換えられる.\n",
    "            #print(tetrad_num)\n",
    "            strand_num = str(np.base_repr(tetrad_num, 4)).zfill(4)\n",
    "            #print(tetrad_num, \"->\", strand_num)\n",
    "            #0013なら、[\"a\",\"a\",\"b\",\"b*\"]という形にしたいのだが・・・・\n",
    "            str_strand = [val.translate(tbl1) for val in strand_num]\n",
    "            #print(str_strand)\n",
    "            #strand.append(str_strand)\n",
    "            strand_data.append(str_strand)#[\"a\",\"a\",\"b\",\"b*\"]\n",
    "        strand_list.append(strand_data)\n",
    "            \n",
    "    return strand_list"
   ]
  },
  {
   "cell_type": "code",
   "execution_count": 14,
   "id": "ee3e1630-e747-4245-a15e-fa20c02e83bf",
   "metadata": {},
   "outputs": [],
   "source": [
    "def qdpy_result_to_strands(dirpath):\n",
    "    #dirpath = \"./2022-12-19/20230507_1133\"\n",
    "    qdpy_log = dirpath + \"/qdpy_log.p\"\n",
    "    with open(qdpy_log,\"rb\") as f:\n",
    "        iterations = pickle.load(f)\n",
    "\n",
    "    iterations_df = cast_qdpy_iterations(iterations)#必要項目をdfとしてみられるようにした\n",
    "\n",
    "    tf_list = container_to_tf_list(iterations)\n",
    "    \n",
    "    tetrad_list = tf_to_tetrad(tf_list)#何番の組み合わせがあるかを表している。\n",
    "    binary_list = tetrad_to_binary(tetrad_list)#ブールを0,1の形にする。\n",
    "    \n",
    "    strand_list = tetrad_to_strand(tetrad_list)#tetrad=４進数の0,1,2,3をa,b,a*,b＊に置き換えるとストランドになる。\n",
    "    #dt = str(datetime.datetime.now().strftime('%Y-%m-%d_%H-%M-%S_%f'))\n",
    "    use_pickle.dump_to_pickle(\n",
    "        dirpath,\n",
    "        [iterations,\n",
    "         iterations_df,\n",
    "         iterations[\"container\"],\n",
    "         binary_list,\n",
    "         tetrad_list,\n",
    "         strand_list],\n",
    "         # pd.DataFrame(binary_list),\n",
    "         # pd.DataFrame(tetrad_list),\n",
    "         # pd.DataFrame(strand_list)],\n",
    "        [\"iterations\",\n",
    "         \"iterations_df_full_grid\",\n",
    "         \"iter_container_full_grid\",\n",
    "         \"binary_full_grid\",\n",
    "         \"tetrad_num_full_grid\",\n",
    "         \"strands_full_grid\"])\n",
    "            #[\"iterations_df\",\"iter_container\",\"created_binary_\"+dt,\"created_tetrad_list_\"+dt,\"created_strand_list_\"+dt])\n"
   ]
  },
  {
   "cell_type": "code",
   "execution_count": null,
   "id": "a02cabae-0869-42de-ab3b-814ae3697e85",
   "metadata": {},
   "outputs": [],
   "source": []
  }
 ],
 "metadata": {
  "kernelspec": {
   "display_name": "Python 3 (ipykernel)",
   "language": "python",
   "name": "python3"
  },
  "language_info": {
   "codemirror_mode": {
    "name": "ipython",
    "version": 3
   },
   "file_extension": ".py",
   "mimetype": "text/x-python",
   "name": "python",
   "nbconvert_exporter": "python",
   "pygments_lexer": "ipython3",
   "version": "3.9.0"
  }
 },
 "nbformat": 4,
 "nbformat_minor": 5
}
