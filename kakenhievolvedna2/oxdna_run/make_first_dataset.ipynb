{
 "cells": [
  {
   "cell_type": "code",
   "execution_count": 3,
   "metadata": {},
   "outputs": [],
   "source": [
    "import os\n",
    "import sys\n",
    "import shutil\n",
    "import glob\n",
    "import datetime\n",
    "import subprocess as sp\n",
    "import pathlib\n",
    "import time\n",
    "import datetime\n",
    "import config as cfg\n",
    "#import make_mean as mm\n",
    "import importlib\n",
    "importlib.reload(cfg)\n",
    "#importlib.reload(mm)\n",
    "import send_mail\n",
    "importlib.reload(send_mail)\n",
    "import traceback"
   ]
  },
  {
   "cell_type": "code",
   "execution_count": 4,
   "metadata": {},
   "outputs": [],
   "source": [
    "#条件ごとのpeppercorn実行結果のディレクトリ一覧を\"パス名で\"得る\n",
    "def get_result_dir_path(all_results_dir):\n",
    "    peppercorn_results = glob.glob(\"{}/peppercorn*\".format(all_results_dir))\n",
    "    return peppercorn_results\n",
    "    #output : list of \"resluts/(peppercorn output libraries)\""
   ]
  },
  {
   "cell_type": "code",
   "execution_count": 3,
   "metadata": {},
   "outputs": [],
   "source": [
    "def get_lastconf(output_folder):\n",
    "    p_temp = pathlib.Path(output_folder).glob('*_lastconf.dat')\n",
    "    lastconf = [os.path.basename(str(p)) for p in list(p_temp)]\n",
    "    return lastconf"
   ]
  },
  {
   "cell_type": "code",
   "execution_count": 14,
   "metadata": {},
   "outputs": [],
   "source": [
    "def run_main_for_eachfiles(results_dir_path, empty_dir_list, parent_dir):\n",
    "    \n",
    "    d = {' ' :  '_', '.' :  '', ':' : '_'}\n",
    "    tbl = str.maketrans(d)\n",
    "\n",
    "    result_files = glob.glob(\"{}/final*/*result.pil\".format(results_dir_path))\n",
    "\n",
    "    \n",
    "    if len(result_files) == 0:#result_filesがemptyなら、それを記録する\n",
    "        print(\"RESULT FILE NOT FOUND\\n\")\n",
    "        empty_dir_list.append(results_dir_path)\n",
    "\n",
    "    else:#result_filesがemptyじゃない時はシミュレーションを開始する。\n",
    "        for result_file in result_files:\n",
    "            \n",
    "                \n",
    "            datetime_sim = str(datetime.datetime.now()).translate(tbl)\n",
    "            output_folder = os.path.join(parent_dir,\"sim_result_peppercorn_\"+datetime_sim)\n",
    "            #example: 2022-12-19/sim_result_peppercorn_2022-12-19_21_49_00534352\n",
    "            if not os.path.exists(output_folder):\n",
    "                os.mkdir(output_folder)#oxDNA結果が入るディレクトリを作る\n",
    "\n",
    "            result_file_name = os.path.basename(result_file)\n",
    "            result_file = shutil.copy(result_file, os.path.join(output_folder,result_file_name))\n",
    "            #pil結果ファイルをoxDNA結果ディレクトリにコピーした\n",
    "\n",
    "            executable = [\"python3\", \"./main.py\", result_file, output_folder]\n",
    "            logfile = os.path.join(output_folder, datetime_sim+\"_making_dataset_log.txt\")\n",
    "            \n",
    "            print(\"-----------------sim : {} start------------------\\n\".format(output_folder))\n",
    "            with open(logfile,\"w\") as log:\n",
    "                sp.run(executable, stdout=log, stderr=log, text=True)#sp.STDOUTの場合は標準出力に出る\n",
    "                print(result_file)\n",
    "                log.close()\n",
    "                print(\"oxdna end : \",output_folder,file = sys.stdout)\n",
    "            oxdna_results = get_lastconf(output_folder)\n",
    "            print(\"oxdna_results : \", oxdna_results)\n",
    "            print(\"-------------------sim : {} end------------------\\n\".format(output_folder))            \n",
    "        \n",
    "\n",
    "    #print(empty_dir_list)\n",
    "    \n",
    "    \n",
    "        "
   ]
  },
  {
   "cell_type": "code",
   "execution_count": 15,
   "metadata": {},
   "outputs": [],
   "source": [
    "def send_make_dataset_mail(flag,error_message,start_datetime,end_datetime,elapsed_time):\n",
    "    if flag == \"okey\":\n",
    "        importlib.reload(send_mail)\n",
    "        textlist = [\"🎉🎉🎉Python program  【make_first_dataset】 completed!🎉🎉🎉\",\"\\n\",\n",
    "                    \"⏰START: \",start_datetime,\"\\n\",\n",
    "                    \"⏰END: \",end_datetime,\"\\n\",\n",
    "                    \"⌛️RUN TIME: \",str(elapsed_time),\" s \\n\",\n",
    "                    \"📃MESSAGE: \",error_message]\n",
    "        text = \"\".join(textlist)\n",
    "        send_mail.program_complete_mail(mail_title = \"🐍【実行完了】 Pythonプログラム【make_first_dataset】 が完了しました！🐍\",mailtext = text)\n",
    "    else:\n",
    "        importlib.reload(send_mail)\n",
    "        textlist = [\"😭😭Python program 【make_first_dataset】 has ERROR!😭😭\",\"\\n\",\n",
    "                    \"⏰START: \",start_datetime,\"\\n\",\n",
    "                    \"⏰END: \",end_datetime,\"\\n\",\n",
    "                    \"⌛️RUN TIME: \",str(elapsed_time),\" s \\n\",\n",
    "                    \"📃MESSAGE: \",error_message]\n",
    "        text = \"\".join(textlist)\n",
    "        send_mail.program_complete_mail(mail_title = \"🐍【実行エラー】 Pythonプログラム 【make_first_dataset】 でエラーが発生しました🐍\",mailtext = text)"
   ]
  },
  {
   "cell_type": "code",
   "execution_count": 13,
   "metadata": {},
   "outputs": [],
   "source": [
    "def sim_all_results_dir(all_results_dir = cfg.results_dir):\n",
    "    \n",
    "    t1 = time.time()\n",
    "    starttime = datetime.datetime.fromtimestamp(time.time())\n",
    "    start_datetime = starttime.strftime('%Y/%m/%d %H:%M:%S')\n",
    "    \n",
    "    try:\n",
    "        results_path_list= get_result_dir_path(all_results_dir)\n",
    "        #print(\"results_path_list :\" , results_path_list)\n",
    "        empty_dir_list = []\n",
    "        num_of_results_path = len(results_path_list)\n",
    "        \n",
    "        parent_dir = str(datetime.date.today())            \n",
    "        if not os.path.exists(parent_dir):\n",
    "            os.makedirs(parent_dir)\n",
    "\n",
    "        for index, results_dir_path in enumerate(results_path_list):\n",
    "            results_dir_name = os.path.basename(results_dir_path)\n",
    "            # print(\"ライブラリパス：\", results_dir_path, \"\\n\")\n",
    "            # print(\"ライブラリ名：\", results_dir_name, \"\\n\")\n",
    "            run_main_for_eachfiles(results_dir_path,empty_dir_list,parent_dir)\n",
    "\n",
    "            empty_dir_log = \"empty_dir_log.txt\"      \n",
    "            with open(empty_dir_log,\"w\") as elog:\n",
    "                for line in empty_dir_list:\n",
    "                    elog.write(str(line))\n",
    "                    elog.write(\"\\n\")\n",
    "                elog.close()\n",
    "\n",
    "        search_dir_name = \"sim_result_peppercorn*\"\n",
    "        #mm.make_all_mean_file(search_dir_name)\n",
    "        print(\"mean file created\\n\",file=sys.stdout)\n",
    "\n",
    "        print(\"🎉🤗All simuration was finished!🤗🎉\")\n",
    "        \n",
    "        flag = \"okey\"\n",
    "        error_message = \"Succeeded!\"\n",
    "        \n",
    "    except Exception as e:\n",
    "        flag = str(e)\n",
    "        error_message = traceback.format_exc()\n",
    "    \n",
    "    t2 = time.time()\n",
    "    elapsed_time = t2-t1\n",
    "    endtime = datetime.datetime.fromtimestamp(time.time())\n",
    "    end_datetime = endtime.strftime('%Y/%m/%d %H:%M:%S')\n",
    "    \n",
    "    send_make_dataset_mail(flag,error_message,start_datetime,end_datetime,elapsed_time)\n"
   ]
  },
  {
   "cell_type": "code",
   "execution_count": 6,
   "metadata": {},
   "outputs": [],
   "source": [
    "def main():\n",
    "    d = {' ' :  '_', '.' :  '', ':' : '_'}\n",
    "    tbl = str.maketrans(d)\n",
    "    datetimestr = str(datetime.datetime.now()).translate(tbl)\n",
    "    os.sys.stdout = open('simlog_{}.txt'.format(datetimestr), 'w')\n",
    "    sim_all_results_dir()\n",
    "    #def get_sim_resultlist(output_folder):"
   ]
  },
  {
   "cell_type": "code",
   "execution_count": null,
   "metadata": {},
   "outputs": [],
   "source": [
    "if __name__ == \"__main__\":\n",
    "    main()"
   ]
  }
 ],
 "metadata": {
  "kernelspec": {
   "display_name": "python3.9.0",
   "language": "python",
   "name": "python3.9.0"
  },
  "language_info": {
   "codemirror_mode": {
    "name": "ipython",
    "version": 3
   },
   "file_extension": ".py",
   "mimetype": "text/x-python",
   "name": "python",
   "nbconvert_exporter": "python",
   "pygments_lexer": "ipython3",
   "version": "3.9.0"
  },
  "vscode": {
   "interpreter": {
    "hash": "2c77d04659eed91cd59af899ef857c63df7af26b17d9072ac92f8acaf82a929a"
   }
  }
 },
 "nbformat": 4,
 "nbformat_minor": 4
}
