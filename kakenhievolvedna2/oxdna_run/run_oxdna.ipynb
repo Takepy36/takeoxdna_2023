{
 "cells": [
  {
   "cell_type": "markdown",
   "id": "8e527243-4046-4e8e-ad5c-eea94415da99",
   "metadata": {
    "tags": []
   },
   "source": [
    "# OXDNAを実行"
   ]
  },
  {
   "cell_type": "markdown",
   "id": "bd430381-56f4-4e72-b39d-2d0457f6c758",
   "metadata": {},
   "source": [
    "oxDNAを実行し、実際のエネルギー値を計算する。"
   ]
  },
  {
   "cell_type": "code",
   "execution_count": 1,
   "id": "084997ec-b4dd-4321-b1d9-842af27d27f7",
   "metadata": {},
   "outputs": [],
   "source": [
    "import pil_to_strands\n",
    "import importlib\n",
    "importlib.reload(pil_to_strands)\n",
    "import subprocess as sp\n",
    "import os"
   ]
  },
  {
   "cell_type": "code",
   "execution_count": 2,
   "id": "baa11a85-629f-48bc-adcf-397b3ad222a1",
   "metadata": {},
   "outputs": [],
   "source": [
    "def run_sp_with_log(executable,logfilepath):\n",
    "    with open(logfilepath,\"w\") as logfile:\n",
    "        sp.run(executable,stdout=logfile,stderr=logfile)"
   ]
  },
  {
   "cell_type": "code",
   "execution_count": 7,
   "id": "47ab5c8c-b24b-42ee-a48d-d037f297fdb5",
   "metadata": {},
   "outputs": [],
   "source": [
    "def run_oxdna_main(untrusted_peppercorn_outputs,strands_csv_dir):\n",
    "    for input_filepath in untrusted_peppercorn_outputs:\n",
    "        #print(\"input_filepath:\",input_filepath)\n",
    "        output_dirpath = input_filepath.replace(\"peppercorn_output.pil\",\"oxdna_outputs\")\n",
    "        executable = [\"python3\",\"main.py\",input_filepath,output_dirpath]\n",
    "        logfilepath = input_filepath.replace(\"peppercorn_output.pil\",\"oxdna_log.txt\")\n",
    "        run_sp_with_log(executable,logfilepath)\n",
    "        strands_csv_path = os.path.join(strands_csv_dir,\"strands.csv\")\n",
    "    pil_to_strands.run_all(untrusted_peppercorn_outputs,strands_csv_path)"
   ]
  },
  {
   "cell_type": "code",
   "execution_count": null,
   "id": "3e829900-00d7-41cb-8121-bf8b184dd59f",
   "metadata": {},
   "outputs": [],
   "source": []
  }
 ],
 "metadata": {
  "kernelspec": {
   "display_name": "Python 3 (ipykernel)",
   "language": "python",
   "name": "python3"
  },
  "language_info": {
   "codemirror_mode": {
    "name": "ipython",
    "version": 3
   },
   "file_extension": ".py",
   "mimetype": "text/x-python",
   "name": "python",
   "nbconvert_exporter": "python",
   "pygments_lexer": "ipython3",
   "version": "3.9.0"
  }
 },
 "nbformat": 4,
 "nbformat_minor": 5
}
