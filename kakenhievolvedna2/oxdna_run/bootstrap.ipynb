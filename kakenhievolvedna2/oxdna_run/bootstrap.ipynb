{
 "cells": [
  {
   "cell_type": "code",
   "execution_count": 3,
   "id": "4d84272b-14f8-44d8-8b2a-a02f7cbc74dc",
   "metadata": {},
   "outputs": [
    {
     "data": {
      "text/plain": [
       "<module 'use_pickle' from '/Users/takepy/takeoxdna/kakenhievolvedna2/oxdna_run/use_pickle.py'>"
      ]
     },
     "execution_count": 3,
     "metadata": {},
     "output_type": "execute_result"
    }
   ],
   "source": [
    "import os\n",
    "import sys\n",
    "import numpy as np\n",
    "import pickle\n",
    "import pandas as pd\n",
    "import matplotlib.pyplot as plt\n",
    "import matplotlib.figure as figure\n",
    "from sklearn.metrics import mean_absolute_error\n",
    "from sklearn.metrics import mean_squared_error\n",
    "from sklearn.metrics import r2_score\n",
    "from scipy import stats\n",
    "import math\n",
    "import seaborn as sns\n",
    "import use_pickle\n",
    "import importlib\n",
    "importlib.reload(use_pickle)"
   ]
  },
  {
   "cell_type": "markdown",
   "id": "972d4500-24fe-40df-ad49-3c9233b911ef",
   "metadata": {},
   "source": [
    "エポック数：一つの訓練データを何回繰り返して学習させるか」の数のこと"
   ]
  },
  {
   "cell_type": "code",
   "execution_count": 4,
   "id": "5bfdcbfb-289b-4780-9091-d1c31c7830dc",
   "metadata": {
    "tags": []
   },
   "outputs": [],
   "source": [
    "def read_pickle(filepath):\n",
    "    f = open(filepath,\"rb\")\n",
    "    ld = pickle.load(f)\n",
    "    return ld"
   ]
  },
  {
   "cell_type": "code",
   "execution_count": 5,
   "id": "8e6c8935-8ab9-4466-a27c-6d82a78300d8",
   "metadata": {
    "tags": []
   },
   "outputs": [],
   "source": [
    "def read_csv_file(filepath):\n",
    "    df = pd.read_csv(filepath)\n",
    "    return df"
   ]
  },
  {
   "cell_type": "code",
   "execution_count": 6,
   "id": "b3deee3c-fa42-4a48-88d2-2a4ad68060b4",
   "metadata": {
    "tags": []
   },
   "outputs": [],
   "source": [
    "#理想はどのようなstrandsが失敗しやすいかを見つける\n",
    "#結果がおかしいstrandsのデータを学習させると?"
   ]
  },
  {
   "cell_type": "code",
   "execution_count": 7,
   "id": "7f0d7af2-ca06-4ff9-8a9e-00859c2442f4",
   "metadata": {},
   "outputs": [],
   "source": [
    "def get_data_for_bootstrap(data,n_trials=100):\n",
    "    #index = np.arange(data.shape[0\n",
    "    index = data.index\n",
    "    bootstrap_index = np.random.choice(\n",
    "        index,\n",
    "        size=data.shape[0]*n_trials,\n",
    "        replace=True)\n",
    "    #データのインデックスからランダムに取り出し、これをn＿trials行だけ作る。\n",
    "    \n",
    "    data_for_bootstrap = np.reshape(data.loc[bootstrap_index,:].values,\n",
    "                                (n_trials,*data.shape))\n",
    "    #\n",
    "    return data_for_bootstrap"
   ]
  },
  {
   "cell_type": "code",
   "execution_count": 27,
   "id": "1bb835f7-c1d0-47a7-b723-eaef026fa33e",
   "metadata": {},
   "outputs": [],
   "source": [
    "def bootstrap_prediction(dirpath,data_for_bootstrap,x_test):\n",
    "    #dirpathはモデルが入っているフォルダ。\n",
    "    bootstrap_result = []\n",
    "    bootstrap_models = []\n",
    "    #bootstrap_dataはトレーニングデータから作られている。\n",
    "    for dt in data_for_bootstrap:\n",
    "        strand_data = dt[:,:-1]#バイナリで表されたストランド組み合わせの有無\n",
    "        energy_data = dt[:,-1]#エネルギーの値\n",
    "        regressionmodel = read_pickle(dirpath + \"/empty_svm.p\")\n",
    "        regressionmodel.fit(strand_data,energy_data)\n",
    "        #ブートストラップ用データからモデルを作った。\n",
    "        test_result = regressionmodel.predict(x_test)\n",
    "        #そのモデルがx_testのエネルギーを予測している。\n",
    "        bootstrap_result.append(test_result)\n",
    "        bootstrap_models.append(regressionmodel)\n",
    "        \n",
    "    return bootstrap_result,bootstrap_models # We want to use those models!"
   ]
  },
  {
   "cell_type": "code",
   "execution_count": 22,
   "id": "69b1b9e3-1ace-485d-84d1-6eb1a8f98962",
   "metadata": {},
   "outputs": [],
   "source": [
    "def calculate_func(y_test,bootstrap_result, func = np.std, name= \"bootstrap_std\"):\n",
    "    lst = []\n",
    "    for test_energy_datas in np.array(bootstrap_result).T:\n",
    "        #print(np.std(test_energy_datas))\n",
    "        lst.append(func(test_energy_datas))\n",
    "    testdatas_std = pd.DataFrame(lst)\n",
    "    testdatas_std.columns=[name]\n",
    "    testdatas_std.index = y_test.index\n",
    "    return testdatas_std"
   ]
  },
  {
   "cell_type": "code",
   "execution_count": 25,
   "id": "86f0192c-1ea0-4b49-ae45-667cdc2c5fc7",
   "metadata": {},
   "outputs": [],
   "source": [
    "def all_bootstrap(dirpath):\n",
    "    x_train = read_pickle(dirpath + \"/x_train.p\")\n",
    "    x_test = read_pickle(dirpath + \"/x_test.p\")\n",
    "    y_train = read_pickle(dirpath + \"/y_train.p\")\n",
    "    y_test = read_pickle(dirpath + \"/y_test.p\")\n",
    "    data = pd.concat([x_train,y_train],axis=1).rename({\"oxdna_energy_mean\":\"bootstrap_energy_mean\"})\n",
    "    bootstrap_data = get_data_for_bootstrap(data)\n",
    "    \n",
    "    bootstrap_result,bootstrap_models = bootstrap_prediction(dirpath,bootstrap_data, x_test)\n",
    "    bootstrap_result_std = calculate_func(y_test,bootstrap_result)#funcは色々使えるが、今回はstd\n",
    "    bootstrap_result_avg = calculate_func(y_test,bootstrap_result, np.average, name = \"bootstrap_avg\")#avgの計算もできる。\n",
    "    all_bootstrap_results = pd.concat([x_test,y_test,bootstrap_result_avg, bootstrap_result_std],axis=1)\n",
    "    use_pickle.dump_to_pickle(dirpath,\n",
    "                   [bootstrap_data,all_bootstrap_results,bootstrap_models],\n",
    "                   [\"bootstrap_data\",\"all_bootstrap_results\",\"bootstrap_models\"])"
   ]
  },
  {
   "cell_type": "markdown",
   "id": "70d3a7cb-d89c-44d2-b68d-9ac37e198d3d",
   "metadata": {},
   "source": [
    "以上は、100回のbootstrapで作った100のモデルにそれぞれtestデータを予測させ、その100回予測した結果の標準偏差をそれぞれ求めたものである。\n",
    "ばらつきが大きい＝予測が不正確であるほど、標準偏差は大きくなる。"
   ]
  },
  {
   "cell_type": "markdown",
   "id": "a33f0e14-ec0e-4a14-82bc-61ae47f07984",
   "metadata": {},
   "source": [
    "ブートストラップ法はなぜ実施するのか。\n",
    "\n",
    "その理由は繰り返しになりますが、「得られている推定値の信頼性評価」ができるからです。\n",
    "\n",
    "ブートストラップ法により繰り返し推定値を算出することによって、推定値が取りうる範囲を知ることができるのは大きな利点。\n",
    "\n",
    "推定値が取りうる範囲を知るという事では95%信頼区間もその一種ですが、95%信頼区間は正規分布を仮定して算出しています。\n",
    "\n",
    "その仮定すら不要であるという点が、ブートストラップ法と95%信頼区間との違い。\n",
    "\n",
    " \n",
    "\n",
    "95%信頼区間はパラメトリックな方法、ブートストラップ法はノンパラメトリックな方法、というイメージをしてもいいかと思います。"
   ]
  },
  {
   "cell_type": "code",
   "execution_count": null,
   "id": "b3f98823-9281-4bd7-a33d-0eb2ab4ca86b",
   "metadata": {},
   "outputs": [],
   "source": []
  }
 ],
 "metadata": {
  "kernelspec": {
   "display_name": "Python 3 (ipykernel)",
   "language": "python",
   "name": "python3"
  },
  "language_info": {
   "codemirror_mode": {
    "name": "ipython",
    "version": 3
   },
   "file_extension": ".py",
   "mimetype": "text/x-python",
   "name": "python",
   "nbconvert_exporter": "python",
   "pygments_lexer": "ipython3",
   "version": "3.9.0"
  }
 },
 "nbformat": 4,
 "nbformat_minor": 5
}
