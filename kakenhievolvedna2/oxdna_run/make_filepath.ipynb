{
 "cells": [
  {
   "cell_type": "code",
   "execution_count": 2,
   "id": "05a4d279-9b71-47f9-8806-c8b068a5dcef",
   "metadata": {},
   "outputs": [],
   "source": [
    "import datetime\n",
    "import os\n",
    "import importlib"
   ]
  },
  {
   "cell_type": "code",
   "execution_count": 4,
   "id": "49ba82d0-c71d-43cd-a1ce-c2ab2259c66e",
   "metadata": {},
   "outputs": [],
   "source": [
    "def make_datetime_folder(parent_dir):\n",
    "    dt = str(datetime.datetime.now().strftime('%Y%m%d_%H%M'))\n",
    "    path = os.path.join(parent_dir,dt)\n",
    "    if not os.path.exists(path):\n",
    "        os.mkdir(path)\n",
    "    return path"
   ]
  },
  {
   "cell_type": "code",
   "execution_count": 2,
   "id": "ed55fe6e-1c0c-40ac-897f-ceab5aeaa378",
   "metadata": {},
   "outputs": [],
   "source": [
    "def make_count_folder(parent_dir,cnt):\n",
    "    count_dirpath = os.path.join(parent_dir,\"loop\"+str(cnt))\n",
    "    if not os.path.exists(count_dirpath):\n",
    "        os.mkdir(count_dirpath)\n",
    "    return count_dirpath"
   ]
  },
  {
   "cell_type": "code",
   "execution_count": 1,
   "id": "653c0858-31d1-4a47-a97e-b672eae1d9c1",
   "metadata": {},
   "outputs": [],
   "source": [
    "def make_dir(parent_dir,dirname):\n",
    "    path = os.path.join(parent_dir,dirname)\n",
    "    if not os.path.exists(path):\n",
    "        os.mkdir(path)\n",
    "    return path"
   ]
  }
 ],
 "metadata": {
  "kernelspec": {
   "display_name": "Python 3 (ipykernel)",
   "language": "python",
   "name": "python3"
  },
  "language_info": {
   "codemirror_mode": {
    "name": "ipython",
    "version": 3
   },
   "file_extension": ".py",
   "mimetype": "text/x-python",
   "name": "python",
   "nbconvert_exporter": "python",
   "pygments_lexer": "ipython3",
   "version": "3.9.0"
  }
 },
 "nbformat": 4,
 "nbformat_minor": 5
}
