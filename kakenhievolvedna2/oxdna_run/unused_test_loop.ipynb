{
 "cells": [
  {
   "cell_type": "code",
   "execution_count": null,
   "id": "6b9061d2-d02b-44e6-9938-48cd248ff13d",
   "metadata": {},
   "outputs": [],
   "source": [
    "#TEST"
   ]
  },
  {
   "cell_type": "code",
   "execution_count": 6,
   "id": "d4a371bf-432b-451b-9a9c-2a1df766d7ae",
   "metadata": {},
   "outputs": [],
   "source": [
    "# count=0\n",
    "# dir_0 = make_filepath.make_count_folder(make_filepath.make_datetime_folder(),count)\n",
    "# print(dir_0)"
   ]
  },
  {
   "cell_type": "code",
   "execution_count": 7,
   "id": "a6c43dfa-7eab-4831-99c8-bd7438e7a086",
   "metadata": {
    "tags": []
   },
   "outputs": [],
   "source": [
    "# with redirect_stdout(open(os.path.join(dir_0,\"qdpy_to_untrusted_strands_log.txt\"), 'w')):\n",
    "#     untrusted_df = get_untrusted.qdpy_to_untrusted_strands(cfg.result_parent_dir,dir_0)\n",
    "#     #qdpyにより、配置されたストランドの情報とエネルギーの情報が得られる。"
   ]
  },
  {
   "cell_type": "code",
   "execution_count": 8,
   "id": "37926bdd-5115-4c44-8d5d-02dbe16fd5c5",
   "metadata": {},
   "outputs": [],
   "source": [
    "# #ファイルを作り直したくない場合に使う\n",
    "# count=0\n",
    "# with open(\"parent_dir.txt\",\"r\")as f:\n",
    "#     parent_dir = f.read()\n",
    "# dir_0 = make_filepath.make_count_folder(parent_dir,count)\n",
    "# print(dir_0)"
   ]
  },
  {
   "cell_type": "code",
   "execution_count": 9,
   "id": "f19a6514-be67-4fbf-aa4d-e216a8abd6d5",
   "metadata": {},
   "outputs": [],
   "source": [
    "# untrusted_qdpy_data = use_pickle.read_pickle(dir_0,\"untrusted_qdpy_data.p\")\n",
    "# #untrusted....は、qdpyで得られた情報のうち、エネルギー予測の信頼度が低いと判断されるものである。"
   ]
  },
  {
   "cell_type": "code",
   "execution_count": 10,
   "id": "b7271b15-f6a2-4c2b-b812-aa3ac63f6669",
   "metadata": {},
   "outputs": [],
   "source": [
    "# untrusted_qdpy_strands = use_pickle.read_pickle(dir_0,\"untrusted_qdpy_strands.p\")"
   ]
  },
  {
   "cell_type": "code",
   "execution_count": 11,
   "id": "44b442ed-a8a3-498d-a2dd-639a9b5d26ed",
   "metadata": {},
   "outputs": [],
   "source": [
    "# untrusted_peppercorn_outputs = run_peppercorn.make_untrusted_strands_files(\n",
    "#     untrusted_qdpy_strands,\n",
    "#     untrusted_qdpy_data.index,\n",
    "#     length_a,length_b,max_complex_size,dir_0)\n",
    "# #untrusted_peppercorn_outputsはoutput.pilのパス一覧。"
   ]
  },
  {
   "cell_type": "code",
   "execution_count": 12,
   "id": "9f8b74ed-88a0-49ba-a170-4327b80a384d",
   "metadata": {},
   "outputs": [],
   "source": [
    "# run_oxdna.run_oxdna_main(untrusted_peppercorn_outputs,dir_0)"
   ]
  },
  {
   "cell_type": "code",
   "execution_count": 13,
   "id": "558b3047-d6c7-4f56-b491-9726468ada58",
   "metadata": {},
   "outputs": [],
   "source": [
    "#エネルギー予測の信頼度の低いデータについて、構造と実際の値を計算することに成功した。\n",
    "#energy_log.csvのエネルギーの平均値を正解の値とする。"
   ]
  },
  {
   "cell_type": "code",
   "execution_count": 14,
   "id": "f1b9fb9d-7d84-4420-b7d1-cd52cd1c2eb5",
   "metadata": {},
   "outputs": [],
   "source": [
    "# untrusted_oxdna_energy_means = []\n",
    "# for untrusted_idx in untrusted_qdpy_data.index:\n",
    "#     energy_mean_path = os.path.join(dir_0,\n",
    "#                  \"untrusted_strands_set{}\".format(str(untrusted_idx)),\n",
    "#                  \"{}_oxdna_outputs\".format(str(untrusted_idx)),\n",
    "#                  \"oxdna_energy_mean.csv\")\n",
    "#     if os.path.exists(energy_mean_path):#ひとまずoxdnaが失敗した結果をスキップしている。\n",
    "#         energy_mean = float(pd.read_csv(energy_mean_path).values[0])#oxdnaが計算した結果の平均。\n",
    "#         untrusted_oxdna_energy_means.append(energy_mean)\n",
    "#         # print(untrusted_idx,energy_mean)\n",
    "        \n",
    "#     else:\n",
    "#         untrusted_oxdna_energy_means.append(None)#構造が見つからなかった場合の結果である。\n",
    "#         # print(untrusted_idx,\"NOT FOUND\")\n",
    "    \n",
    "# energy_means_df = pd.DataFrame(untrusted_oxdna_energy_means)\n",
    "# energy_means_df.columns = [\"oxdna_energy_mean\"]\n",
    "# energy_means_df.index = untrusted_qdpy_data.index\n",
    "# binary_energy_df = pd.concat([untrusted_qdpy_data,energy_means_df],axis=1)"
   ]
  },
  {
   "cell_type": "code",
   "execution_count": 15,
   "id": "9a39d0d7-f069-4a67-9b61-058d9adbbd33",
   "metadata": {},
   "outputs": [],
   "source": [
    "# additional_x_train = binary_energy_df.dropna(how='any').iloc[:,0:256]#再学習対象に追加したいデータ。\n",
    "# additional_y_train = binary_energy_df.dropna(how='any').loc[:,\"oxdna_energy_mean\"]#再学習対象に追加したいデータ。\n",
    "# new_x_test = pd.concat([use_pickle.read_pickle(dir_0,\"x_train.p\"),additional_x_train],axis=0).reset_index(drop=True)\n",
    "# new_y_test = pd.concat([use_pickle.read_pickle(dir_0,\"y_train.p\"),additional_y_train],axis=0).reset_index(drop=True)"
   ]
  },
  {
   "cell_type": "code",
   "execution_count": 16,
   "id": "6f50aa87-30c7-4593-9e87-419dd6a38e2a",
   "metadata": {},
   "outputs": [],
   "source": [
    "# count1 = 1\n",
    "# dir_1 = os.path.dirname(dir_0) + \"/loop\" + str(count1)\n",
    "# if not os.path.exists(dir_1):\n",
    "#     os.mkdir(dir_1)\n",
    "# use_pickle.dump_to_pickle(dir_1,[new_x_test,new_y_test],[\"x_train\",\"y_train\"])"
   ]
  },
  {
   "cell_type": "code",
   "execution_count": 17,
   "id": "b6390680-92c6-49a6-90db-b54f2f1b3c95",
   "metadata": {},
   "outputs": [],
   "source": [
    "# get_untrusted.qdpy_to_untrusted_strands(dir_0,dir_1)"
   ]
  }
 ],
 "metadata": {
  "kernelspec": {
   "display_name": "Python 3 (ipykernel)",
   "language": "python",
   "name": "python3"
  },
  "language_info": {
   "codemirror_mode": {
    "name": "ipython",
    "version": 3
   },
   "file_extension": ".py",
   "mimetype": "text/x-python",
   "name": "python",
   "nbconvert_exporter": "python",
   "pygments_lexer": "ipython3",
   "version": "3.9.0"
  }
 },
 "nbformat": 4,
 "nbformat_minor": 5
}
