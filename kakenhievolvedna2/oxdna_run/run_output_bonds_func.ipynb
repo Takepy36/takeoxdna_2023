{
 "cells": [
  {
   "cell_type": "code",
   "execution_count": 60,
   "metadata": {},
   "outputs": [],
   "source": [
    "import pandas as pd\n",
    "import os\n",
    "import subprocess as sp\n",
    "import numpy as np\n",
    "import pandas as pd\n",
    "pd.set_option('display.max_rows', None)\n",
    "pd.set_option('display.max_columns', None)\n",
    "\n",
    "import config as cfg\n"
   ]
  },
  {
   "cell_type": "code",
   "execution_count": 61,
   "metadata": {},
   "outputs": [],
   "source": [
    "def run_output_bonds (target, output_oxdna_dir, oxdna_utils_dir = \"../../oxDNA_python2/UTILS\",output_bonds = \"output_bonds.py\"):\n",
    "    input_file = os.path.join(output_oxdna_dir, target + \"_\" + cfg.oxdna_input)\n",
    "    print(input_file)\n",
    "    trajectory_file = os.path.join(output_oxdna_dir, \"{}_lastconf.dat\".format(target))\n",
    "    output_bonds_file = os.path.join(oxdna_utils_dir, output_bonds)\n",
    "    executable = [\"python2\", output_bonds_file,  input_file, trajectory_file]\n",
    "    output_filename = os.path.join(output_oxdna_dir, '{}_output_bonds.txt'.format(target))\n",
    "    with open(output_filename, 'w') as fp:\n",
    "        sp.run(executable, stdout = fp, stderr = sp.DEVNULL)\n",
    "    fp.close()\n",
    "    return output_filename\n"
   ]
  },
  {
   "cell_type": "code",
   "execution_count": 62,
   "metadata": {},
   "outputs": [],
   "source": [
    "def get_bonds_data(filename):\n",
    "    output_bonds_data = pd.read_csv(filename,  sep = \" \", header = None).drop(0).drop(columns = [10, 11, 12])\n",
    "    output_bonds_data.columns = [\"id1\", \"id2\", \"FENE\",\"BEXC\", \"STCK\",\"NEXC\", \"HB\", \"CRSTCK\", \"CXSTCK\",  \"TOTAL\"]\n",
    "    output_bonds_data = output_bonds_data.reset_index(drop = True)\n",
    "\n",
    "    output_bonds_data = output_bonds_data[:-1].astype(\"float\").astype({\"id1\" : \"int\", \"id2\" : \"int\"})\n",
    "    return output_bonds_data"
   ]
  },
  {
   "cell_type": "code",
   "execution_count": 63,
   "metadata": {},
   "outputs": [],
   "source": [
    "def get_lastconf_data(output_dir, target):\n",
    "    lastconf_filename = os.path.join(output_dir, \"{}_lastconf.dat\".format(target))\n",
    "    lastconf_data = pd.read_csv(lastconf_filename, sep = \" \", header = None,                                names = [\"position_rx\", \"position_ry\", \"position_rz\",                                          \"bb_versor_bx\", \"bb_versor_by\", \"bb_versor_bz\",                                          \"N_versor_nx\", \"N_versor_ny\", \"N_versor_nz\",                                          \"velocity_vx\", \"velocity_vy\", \"velocity_vz\",                                          \"angular_velocity_Lx\", \"angular_velocity_Ly\", \"angular_velocity_Lz\"])\n",
    "    lastconf_data = lastconf_data.drop(range(0,3)).reset_index(drop = True).astype(float)\n",
    "    return lastconf_data\n"
   ]
  },
  {
   "cell_type": "code",
   "execution_count": 64,
   "metadata": {},
   "outputs": [],
   "source": [
    "def get_topology_data(output_dir, target): \n",
    "    topology = os.path.join(output_dir, \"{}.top\".format(target))\n",
    "    topology_data = pd.read_csv(topology, sep = \" \", names = [\"strand\", \"nucleotide\", \"connection1\", \"connection2\"])\n",
    "    topology_data = topology_data.drop([0]).reset_index(drop = True)\n",
    "    topology_data = topology_data.reset_index()\n",
    "    topology_data = topology_data.rename(columns={\"index\" : \"id1\"}).astype({\"strand\" : int, \"connection1\" : int, \"connection2\" : int})\n",
    "    expected_num_strands = topology_data[\"strand\"].max()\n",
    "    return topology_data, expected_num_strands"
   ]
  },
  {
   "cell_type": "code",
   "execution_count": 65,
   "metadata": {},
   "outputs": [],
   "source": [
    "def get_top_pos_data(data1, bonds_data):\n",
    "    newdata = pd.merge(bonds_data, data1)\n",
    "\n",
    "    drop_col = [\"FENE\", \"BEXC\", \"STCK\", \"NEXC\", \"CRSTCK\", \"CXSTCK\", \"TOTAL\",                \"connection1\", \"connection2\", \"bb_versor_bx\",                 \"bb_versor_by\", \"bb_versor_bz\", \"N_versor_nx\", \"N_versor_ny\", \"N_versor_nz\",                 \"velocity_vx\", \"velocity_vy\", \"velocity_vz\", \"angular_velocity_Lx\", \"angular_velocity_Ly\", \"angular_velocity_Lz\"]\n",
    "\n",
    "    newdata = newdata.drop(drop_col, axis=1)\n",
    "    \n",
    "    return newdata"
   ]
  },
  {
   "cell_type": "code",
   "execution_count": 66,
   "metadata": {},
   "outputs": [],
   "source": [
    "def add_id2_strand(data, topology_data):\n",
    "    data[\"id2_strand\"] = \" \"\n",
    "    for index, row in data.iterrows():\n",
    "        id2_value = row[\"id2\"]\n",
    "        id2_strand = topology_data[ id2_value == topology_data[\"id1\"]][\"strand\"].values[0]\n",
    "        data.at[index, \"id2_strand\"] = id2_strand\n",
    "    #display(data)\n",
    "    return data"
   ]
  },
  {
   "cell_type": "code",
   "execution_count": 67,
   "metadata": {},
   "outputs": [],
   "source": [
    "def count_strands(top_pos_data, data_groupby):\n",
    "    howmany_strands = pd.DataFrame(top_pos_data['id2_strand'].value_counts()).rename({\"id2_strand\" : \"id2_strand_count\"}, axis = 1)\n",
    "    id2_strands_num = len(howmany_strands)\n",
    "    return id2_strands_num"
   ]
  },
  {
   "cell_type": "code",
   "execution_count": 68,
   "metadata": {},
   "outputs": [],
   "source": [
    "def get_connected_strands_data(data):\n",
    "    connected_strands = data[data[\"HB\"] < 0.0][[\"strand\", \"id2_strand\"]].values.tolist() \n",
    "    set_connected_strands = set( [ (a,b) for a,b in connected_strands ])#setにすると重複がなくなる\n",
    "    #display(set_connected_strands)\n",
    "    #「他のストランドのヌクレオチドと水素結合しているヌクレオチド」が存在するストランド番号の組み合わせを特定する。\n",
    "    pair_list =list ( set_connected_strands)#結合があるストランドの組合せのリスト\n",
    "    #pair_list = [pair for pair in pair_list if pair[0] != pair[1]]#同じもの同士で繋がっているものは含まない\n",
    "    #もしpair_listが空であった場合、全てのストランドは繋がっていないことになるため、自動的にstrand = 1であるものが出力に選ばれる。\n",
    "\n",
    "    connected_strand_table = [[]]\n",
    "\n",
    "    #example: (1,2), (2,3), (3,5) , (4,6)→[1,2,3,5], [4,6]\n",
    "    #pair_listのソート済みを前提とする\n",
    "    #結合があるストランドのグループを特定する\n",
    "    for pair in pair_list:\n",
    "        for line in connected_strand_table:\n",
    "\n",
    "            if (pair[0] in line) and (pair[1] not in line):\n",
    "                line.append(pair[1])\n",
    "\n",
    "            elif  (pair[1] in line) and (pair[0] not in line):\n",
    "                line.append(pair[0])\n",
    "\n",
    "            elif (pair[0] not in line) and (pair[1] not in line):\n",
    "                connected_strand_table.append(list(pair))\n",
    "\n",
    "    \n",
    "    connected_strand_table = [x for x in connected_strand_table if x]#最初の空の列を除外\n",
    "    connected_strand_table = [line for line in connected_strand_table if line[0] != line[1]]#同じストランド同士のつながりを除外\n",
    "    connected_strand_table = list(map(list, set(map(tuple, connected_strand_table))))\n",
    "\n",
    "    strand_size_table = [len(line) for line in connected_strand_table]\n",
    "    #print(\"strand_size_table: \", strand_size_table)\n",
    "    #print(\"connected_strand_table : \", connected_strand_table)\n",
    "\n",
    "    df = pd.DataFrame(columns=['groups', 'group_size'])\n",
    "    df['groups'] =pd.Series(connected_strand_table)\n",
    "    df[\"group_size\"] = np.array(strand_size_table)\n",
    "    #print(df)\n",
    "    \n",
    "    return_data = pd.DataFrame(columns = data.columns)\n",
    "    if df.size > 0:\n",
    "        actual_num_strands = df[\"group_size\"].max() \n",
    "        biggest_group_array = df.iloc[ df[\"group_size\"].idxmax()][\"groups\"]\n",
    "    else:\n",
    "        #どれも繋がっておらずdfが空になっていた場合の対応\n",
    "        biggest_group_array = [1]\n",
    "        actual_num_strands = 1\n",
    "    return_data = data[[a in biggest_group_array for a in data[\"strand\"]]]\n",
    "    \n",
    "\n",
    "    return return_data, actual_num_strands"
   ]
  },
  {
   "cell_type": "code",
   "execution_count": 69,
   "metadata": {},
   "outputs": [],
   "source": [
    "def create_connection_data(target, output_dir):\n",
    "    output = run_output_bonds(target, output_dir)#ファイル名\n",
    "    print(output)\n",
    "    #test\n",
    "    output_bonds_data = get_bonds_data(output)\n",
    "    lastconf_data = get_lastconf_data(output_dir, target)\n",
    "    topology_data, expected_num_strands = get_topology_data(output_dir, target)\n",
    "    newdata1 = pd.concat([topology_data, lastconf_data], axis = 1)\n",
    "    newdata = get_top_pos_data(newdata1, output_bonds_data)\n",
    "    data = add_id2_strand(newdata, topology_data)#何か発生？\n",
    "    connected_data, actual_num_strands = get_connected_strands_data(data)#e77error\n",
    "    return connected_data, expected_num_strands, actual_num_strands\n"
   ]
  },
  {
   "cell_type": "code",
   "execution_count": 70,
   "metadata": {},
   "outputs": [],
   "source": [
    "def main():\n",
    "    connected_data, expected_num_strands, actual_num_strands = create_connection_data(target = \"e0\", output_dir = \"./sim_result_peppercorn_result1_1\")#test\n",
    "    print(connected_data)\n",
    "    print(\"expected number of strands : \", expected_num_strands)\n",
    "    print(\"actual number of strands : \", actual_num_strands)"
   ]
  },
  {
   "cell_type": "code",
   "execution_count": 71,
   "metadata": {},
   "outputs": [
    {
     "name": "stdout",
     "output_type": "stream",
     "text": [
      "./sim_result_peppercorn_result1_1/e0_input_relax_1e2\n",
      "./sim_result_peppercorn_result1_1/e0_output_bonds.txt\n",
      "    id1  id2   HB  strand nucleotide  position_rx  position_ry  position_rz  \\\n",
      "0     0    1  0.0       1          C    25.577168     0.076271    17.841778   \n",
      "1     1    2  0.0       1          T    25.677433     0.505128    17.520114   \n",
      "2     2    3  0.0       1          C    25.637614     0.875530    17.417753   \n",
      "3     3    4  0.0       1          T    25.833388     1.252413    17.661739   \n",
      "4     4    5  0.0       1          A    25.844296     1.551991    17.975069   \n",
      "5     5    6  0.0       1          T    25.736604     1.702218    18.394173   \n",
      "6     6    7  0.0       1          C    25.992315     1.858655    18.833452   \n",
      "7     7    8  0.0       1          C    26.234079     1.883856    19.225292   \n",
      "8     8    9  0.0       1          T    26.579121     1.932593    19.569040   \n",
      "9     9   10  0.0       1          C    27.028538     2.028800    19.661669   \n",
      "10   10   11  0.0       1          T    27.463399     2.215139    19.720015   \n",
      "11   11   12  0.0       1          A    27.739417     2.537567    19.687772   \n",
      "12   12   13  0.0       1          T    27.997566     2.971822    19.687772   \n",
      "13   13   14  0.0       1          C    28.093200     3.418822    19.881513   \n",
      "14   14   15  0.0       1          A    27.978433     3.798086    20.172800   \n",
      "15   15   16  0.0       1          T    28.064162     4.121428    20.524050   \n",
      "16   16   17  0.0       1          A    28.166232     4.254933    20.974301   \n",
      "17   17   18  0.0       1          T    28.435085     4.269516    21.348901   \n",
      "18   18   19  0.0       1          C    28.803640     4.292442    21.632320   \n",
      "19   19   20  0.0       1          C    29.264583     4.371369    21.687670   \n",
      "20   20   21  0.0       1          G    29.674800     4.608027    21.742633   \n",
      "21   21   22  0.0       1          A    29.986281     4.872650    21.647480   \n",
      "22   22   23  0.0       1          G    30.287002     5.247632    21.879615   \n",
      "23   23   24  0.0       1          A    30.218731     5.751533    21.909280   \n",
      "24   24   25  0.0       1          T    30.244364     6.093608    22.233690   \n",
      "25   25   26  0.0       1          A    29.951782     6.333766    22.591871   \n",
      "\n",
      "   id2_strand  \n",
      "0           1  \n",
      "1           1  \n",
      "2           1  \n",
      "3           1  \n",
      "4           1  \n",
      "5           1  \n",
      "6           1  \n",
      "7           1  \n",
      "8           1  \n",
      "9           1  \n",
      "10          1  \n",
      "11          1  \n",
      "12          1  \n",
      "13          1  \n",
      "14          1  \n",
      "15          1  \n",
      "16          1  \n",
      "17          1  \n",
      "18          1  \n",
      "19          1  \n",
      "20          1  \n",
      "21          1  \n",
      "22          1  \n",
      "23          1  \n",
      "24          1  \n",
      "25          1  \n",
      "expected number of strands :  1\n",
      "actual number of strands :  1\n"
     ]
    },
    {
     "name": "stderr",
     "output_type": "stream",
     "text": [
      "/opt/anaconda3/lib/python3.7/site-packages/ipykernel_launcher.py:37: DeprecationWarning: The default dtype for empty Series will be 'object' instead of 'float64' in a future version. Specify a dtype explicitly to silence this warning.\n"
     ]
    }
   ],
   "source": [
    "if __name__ == \"__main__\":\n",
    "    main()"
   ]
  },
  {
   "cell_type": "code",
   "execution_count": null,
   "metadata": {},
   "outputs": [],
   "source": []
  },
  {
   "cell_type": "code",
   "execution_count": null,
   "metadata": {},
   "outputs": [],
   "source": []
  }
 ],
 "metadata": {
  "kernelspec": {
   "display_name": "Python 3 (ipykernel)",
   "language": "python",
   "name": "python3"
  },
  "language_info": {
   "codemirror_mode": {
    "name": "ipython",
    "version": 3
   },
   "file_extension": ".py",
   "mimetype": "text/x-python",
   "name": "python",
   "nbconvert_exporter": "python",
   "pygments_lexer": "ipython3",
   "version": "3.9.0"
  }
 },
 "nbformat": 4,
 "nbformat_minor": 4
}
