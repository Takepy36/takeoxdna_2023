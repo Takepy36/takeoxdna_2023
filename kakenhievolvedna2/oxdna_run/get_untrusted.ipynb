{
 "cells": [
  {
   "cell_type": "code",
   "execution_count": 1,
   "id": "85e380d2-2494-48d0-9a6c-dd9842bd4963",
   "metadata": {},
   "outputs": [],
   "source": [
    "import os\n",
    "import importlib\n",
    "import make_model as mm\n",
    "import bootstrap\n",
    "import run_qdpy\n",
    "import qdpy_result_to_strands as qdpy_strand\n",
    "import use_pickle\n",
    "import numpy as np\n",
    "import pandas as pd\n",
    "import math\n",
    "importlib.reload(mm)\n",
    "importlib.reload(bootstrap)\n",
    "importlib.reload(run_qdpy)\n",
    "importlib.reload(qdpy_strand)\n",
    "importlib.reload(use_pickle)\n",
    "from contextlib import redirect_stdout"
   ]
  },
  {
   "cell_type": "markdown",
   "id": "795111cc-5494-4c00-b92e-eb80f765e8a1",
   "metadata": {},
   "source": [
    "初期データセットから、信頼できないストランドセットを取得し、ファイルに残す。"
   ]
  },
  {
   "cell_type": "code",
   "execution_count": 2,
   "id": "8941f934-3c01-4d10-8a30-9de7b543a6ee",
   "metadata": {},
   "outputs": [],
   "source": [
    "#信頼できない順に上位((n*100)パーセント)を取り出す\n",
    "def get_untrusted(dirpath,datasets,\n",
    "                  ratio,filename,\n",
    "                  std_column_name = \"std\",bigger=True):\n",
    "    #こちらのdirpathは出力先。\n",
    "    df = pd.DataFrame(datasets)\n",
    "    if bigger == True:\n",
    "        df_down=df.sort_values(by=std_column_name, ascending=False)\n",
    "        df_high = df_down.head(int(len(df)*ratio))\n",
    "        #簡易的なデータを眺める用の出力\n",
    "        #上位下位の25 %を連結してCSV出力\n",
    "        #use_pickle.dump_to_pickle(dirpath,[df_high],[\"untrusted_{}_percent\".format(math.floor(ratio*100))])\n",
    "        use_pickle.dump_to_pickle(dirpath,[df_high],[filename])\n",
    "        return df_high\n",
    "    else:\n",
    "        df_up=df.sort_values(by=std_column_name)\n",
    "        df_low=df_up.head(int(len(df)*ratio))\n",
    "        #use_pickle.dump_to_pickle(dirpath,[df_low],[[\"trusted_{}_percent\".format(math.floor(ratio*100))]])\n",
    "        use_pickle.dump_to_pickle(dirpath,[df_low],[filename])\n",
    "        return df_low"
   ]
  },
  {
   "cell_type": "code",
   "execution_count": 3,
   "id": "eac48331-680a-4fb0-b9e4-7b3c73535802",
   "metadata": {},
   "outputs": [],
   "source": [
    "def predict_and_std(binary_df,models):\n",
    "    #バイナリデータから、構造のエネルギーを複数回予測。\n",
    "    energy_df = pd.DataFrame([])\n",
    "    for num,model in enumerate(models):\n",
    "        predicted_energy = pd.Series(model.predict(binary_df))#256バイナリから予測されたエネルギー値79個がある。\n",
    "        predicted_energy.name = num\n",
    "        energy_df = pd.concat([energy_df,predicted_energy],axis=1)\n",
    "        \n",
    "    #複数回のエネルギー予測の平均とばらつきを計算。\n",
    "    energy_df_mean = energy_df.mean(axis=1)\n",
    "    energy_df_mean.name = \"qdpy_bootstrap_energy_mean\"\n",
    "\n",
    "    energy_df_std = energy_df.std(axis=1)\n",
    "    energy_df_std.name = \"qdpy_bootstrap_energy_std\"\n",
    "\n",
    "    binary_energy_data = pd.concat([binary_df,energy_df_mean,energy_df_std],axis=1)\n",
    "    \n",
    "    return binary_energy_data"
   ]
  },
  {
   "cell_type": "code",
   "execution_count": 4,
   "id": "c4d1ca73-eeb6-4f72-853e-1ce86ee23f45",
   "metadata": {},
   "outputs": [],
   "source": [
    "#本来はグリッドに配置された構造から選ぶべきところを、誤ってブートストラップモデル作成用データから選んでしまっていたので修正した。"
   ]
  },
  {
   "cell_type": "code",
   "execution_count": 24,
   "id": "b0b9d6ef-e388-42ef-853c-8976601b3578",
   "metadata": {},
   "outputs": [],
   "source": [
    "def qdpy_to_untrusted_strands(datasets_dirpath,results_dirpath,qdpy_bgt):\n",
    "    #ブートストラップモデル作成\n",
    "    if os.path.basename(results_dirpath) == \"loop0\":\n",
    "        mm.make_model(datasets_dirpath,results_dirpath)\n",
    "    else:\n",
    "        mm.make_model_for_loop(datasets_dirpath,results_dirpath)\n",
    "    bootstrap.all_bootstrap(results_dirpath)\n",
    "\n",
    "    #作ったブートストラップモデルを読み出す。\n",
    "    models = use_pickle.read_pickle(results_dirpath,\"bootstrap_models.p\")\n",
    "    \n",
    "    #qdpyにより、*_full_grid.pを生成する。これはグリッドに配置された構造の集合である。\n",
    "    logfile = results_dirpath + \"/qdpy_progress.txt\"\n",
    "    with redirect_stdout(open(logfile, 'w')):\n",
    "        run_qdpy.run_qdpy(results_dirpath,qdpy_bgt)\n",
    "        \n",
    "    #グリッド内容を256バイナリ(構造の組み合わせ有無)に変換。\n",
    "    qdpy_strand.qdpy_result_to_strands(results_dirpath)\n",
    "    \n",
    "    #作ったバイナリデータを読み出す。\n",
    "    qdpy_binary = use_pickle.read_pickle(results_dirpath,\"binary_full_grid.p\")#x_trainと同じ形になるはず\n",
    "    qdpy_binary_df = pd.DataFrame(qdpy_binary)\n",
    "    \n",
    "    #バイナリデータから、構造のエネルギーを複数回予測。\n",
    "    qdpy_binary_energy_data = predict_and_std(qdpy_binary_df,models)\n",
    "    \n",
    "    #エネルギー予測が信頼できない構造を取り出す。\n",
    "    untrusted_df = get_untrusted(results_dirpath,qdpy_binary_energy_data,\n",
    "                                 0.3,\"untrusted_qdpy_data\",\n",
    "                                 std_column_name=\"qdpy_bootstrap_energy_std\")\n",
    "    #binary(256),bootstrap_energy_avg,bootstrap_energy_std\n",
    "    \n",
    "    untrusted_tetrad = qdpy_strand.tf_to_tetrad(untrusted_df.iloc[:,:256].values)\n",
    "    untrusted_strands = qdpy_strand.tetrad_to_strand(untrusted_tetrad)\n",
    "    #順番は保存されているので、これをdfにしてuntrusted_dfのindexをつければそのまま使える。\n",
    "    \n",
    "    use_pickle.dump_to_pickle(results_dirpath,\n",
    "                              [untrusted_tetrad,untrusted_strands],\n",
    "                              [\"untrusted_qdpy_tetrad\",\"untrusted_qdpy_strands\"])\n",
    "    \n",
    "    \n",
    "    #デバッグなどが楽になるよう、一旦このパスをファイル出力しておく。\n",
    "    with open(\"parent_dir.txt\",\"w\") as f:\n",
    "        f.write(os.path.dirname(results_dirpath))\n",
    "        \n",
    "    return untrusted_df"
   ]
  },
  {
   "cell_type": "code",
   "execution_count": 9,
   "id": "60d59a1d-2c66-4acd-9988-707cdfd9892c",
   "metadata": {},
   "outputs": [],
   "source": [
    "# datasets_dirpath = \"2022-12-19\"\n",
    "# results_dirpath = \"2022-12-19/test\"\n",
    "# #with redirect_stdout(open(os.path.join(results_dirpath,\"qdpy_to_untrusted_strands_log.txt\"), 'w')):\n",
    "# untrusted_df = qdpy_to_untrusted_strands(datasets_dirpath,results_dirpath)"
   ]
  },
  {
   "cell_type": "code",
   "execution_count": null,
   "id": "130f20cf-10f7-4197-8d0e-ff9183ca6259",
   "metadata": {},
   "outputs": [],
   "source": []
  }
 ],
 "metadata": {
  "kernelspec": {
   "display_name": "Python 3 (ipykernel)",
   "language": "python",
   "name": "python3"
  },
  "language_info": {
   "codemirror_mode": {
    "name": "ipython",
    "version": 3
   },
   "file_extension": ".py",
   "mimetype": "text/x-python",
   "name": "python",
   "nbconvert_exporter": "python",
   "pygments_lexer": "ipython3",
   "version": "3.9.0"
  }
 },
 "nbformat": 4,
 "nbformat_minor": 5
}
